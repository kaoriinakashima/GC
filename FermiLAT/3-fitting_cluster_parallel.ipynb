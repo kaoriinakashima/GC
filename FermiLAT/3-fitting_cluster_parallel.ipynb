{
 "cells": [
  {
   "cell_type": "code",
   "execution_count": 2,
   "id": "8cdd4ad2",
   "metadata": {},
   "outputs": [
    {
     "name": "stdout",
     "output_type": "stream",
     "text": [
      "8158569.wadm1.rrze.uni-erlangen.de\n",
      "8158570.wadm1.rrze.uni-erlangen.de\n",
      "8158571.wadm1.rrze.uni-erlangen.de\n",
      "8158572.wadm1.rrze.uni-erlangen.de\n",
      "8158573.wadm1.rrze.uni-erlangen.de\n",
      "8158574.wadm1.rrze.uni-erlangen.de\n",
      "8158575.wadm1.rrze.uni-erlangen.de\n",
      "8158576.wadm1.rrze.uni-erlangen.de\n",
      "8158577.wadm1.rrze.uni-erlangen.de\n",
      "8158578.wadm1.rrze.uni-erlangen.de\n",
      "8158579.wadm1.rrze.uni-erlangen.de\n",
      "8158580.wadm1.rrze.uni-erlangen.de\n",
      "8158581.wadm1.rrze.uni-erlangen.de\n",
      "8158582.wadm1.rrze.uni-erlangen.de\n"
     ]
    }
   ],
   "source": [
    "'''this script is to run in parallel in ecap hpc cluster'''\n",
    "\n",
    "import numpy as np\n",
    "import yaml\n",
    "import shutil\n",
    "import os\n",
    "\n",
    "# some general configuration for running in ECAP cluster\n",
    "walltime = '23:59:59'\n",
    "dataset_names = ['low_energy', 'med_energy', 'hi_energy']\n",
    "N_bin_met = 8\n",
    "\n",
    "fin = open(f'fitting_fermi.py', 'rt')\n",
    "script_original = fin.read()\n",
    "fin.close()\n",
    "\n",
    "fin_sub = open(f'to_submit.sh', 'rt')\n",
    "sub_original = fin_sub.read()\n",
    "fin_sub.close()\n",
    "\n",
    "for dataset_idx, dataset_name in enumerate(dataset_names):\n",
    "    if dataset_idx != 0:\n",
    "        for n_bin_met in range(N_bin_met-1):\n",
    "            script=script_original.replace('dataset_idx = 1\\n', f'dataset_idx = {dataset_idx}\\n')\n",
    "            script=script.replace(\"n_bin_met = 5\\n\", f'n_bin_met = {n_bin_met}\\n')\n",
    "            fout=open(f'scripts_parallel/fitting_fermi_{dataset_idx}_{n_bin_met}.py', 'w+')\n",
    "            fout.write(script)\n",
    "            fout.close()\n",
    "\n",
    "            script=sub_original.replace('#PBS -l nodes=1:ppn=4,walltime=02:00:00\\n', f'#PBS -l nodes=1:ppn=4,walltime={walltime}\\n')\n",
    "            script=script.replace('#PBS -N fermi_dataset_parallel\\n', f'#PBS -N fermi_{dataset_idx}_{n_bin_met}\\n')\n",
    "            script=script.replace('python create_dataset.py\\n', f'python fitting_fermi_{dataset_idx}_{n_bin_met}.py')\n",
    "            fout=open(f'scripts_parallel/to_submit_parallel.sh', 'w+')\n",
    "            fout.write(script)\n",
    "            fout.close()\n",
    "\n",
    "            os.system(f\"qsub -o scripts_parallel/fermi_{dataset_idx}_{n_bin_met}.log -e scripts_parallel/fermi_{dataset_idx}_{n_bin_met}.log scripts_parallel/to_submit_parallel.sh\")"
   ]
  },
  {
   "cell_type": "code",
   "execution_count": null,
   "id": "f961ff1f",
   "metadata": {},
   "outputs": [],
   "source": []
  }
 ],
 "metadata": {
  "kernelspec": {
   "display_name": "Python [conda env:gammapy-0.19]",
   "language": "python",
   "name": "conda-env-gammapy-0.19-py"
  },
  "language_info": {
   "codemirror_mode": {
    "name": "ipython",
    "version": 3
   },
   "file_extension": ".py",
   "mimetype": "text/x-python",
   "name": "python",
   "nbconvert_exporter": "python",
   "pygments_lexer": "ipython3",
   "version": "3.9.9"
  }
 },
 "nbformat": 4,
 "nbformat_minor": 5
}
