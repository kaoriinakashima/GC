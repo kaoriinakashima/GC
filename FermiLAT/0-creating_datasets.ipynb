{
 "cells": [
  {
   "cell_type": "code",
   "execution_count": 1,
   "id": "aeaccba3",
   "metadata": {},
   "outputs": [],
   "source": [
    "import numpy as np\n",
    "import astropy.time as Time\n",
    "import yaml\n",
    "import os, shutil"
   ]
  },
  {
   "cell_type": "code",
   "execution_count": 2,
   "id": "c5de5f19",
   "metadata": {},
   "outputs": [],
   "source": [
    "# every 2 years after the starting point, which is: 2008-10-27 18:11:14 and ending point: 2022-07-02 03:43:10\n",
    "time_bin_met=[246823875, 309895876, 373054277, 436126277, 499284678,562356679,625515079,678426195]\n",
    "N_bin_met = 8"
   ]
  },
  {
   "cell_type": "code",
   "execution_count": 3,
   "id": "e1c5ad6e",
   "metadata": {},
   "outputs": [],
   "source": [
    "dataset_names = ['low_energy', 'med_energy', 'hi_energy']\n",
    "main_path = '/home/woody/caph/mppi062h/woody_output/final/fermilat/'"
   ]
  },
  {
   "cell_type": "code",
   "execution_count": 4,
   "id": "b22ba2f3",
   "metadata": {},
   "outputs": [],
   "source": [
    "for dataset_name in dataset_names:\n",
    "    with open(f'{main_path}/{dataset_name}/confg.yaml') as file:\n",
    "        confg = yaml.full_load(file)\n",
    "        \n",
    "    folder = f'{main_path}/{dataset_name}/full_time'\n",
    "    #os.system(f'rm {folder}/*')\n",
    "    if not os.path.exists(folder):\n",
    "        os.makedirs(folder)\n",
    "    with open(f'{folder}/confg.yaml', 'w+') as file:\n",
    "        yaml.dump(confg, file, default_flow_style=False)\n",
    "\n",
    "    if dataset_name != 'low_energy':\n",
    "        for n_bin_met in range(N_bin_met-1):\n",
    "            confg_copy = confg.copy()\n",
    "            folder = f'{main_path}/{dataset_name}/{n_bin_met}_bin_met'\n",
    "            #os.system(f'rm {folder}/*')\n",
    "\n",
    "            if not os.path.exists(folder):\n",
    "                os.makedirs(folder)\n",
    "            confg_copy['selection']['tmin'] = time_bin_met[n_bin_met]\n",
    "            confg_copy['selection']['tmax'] = time_bin_met[n_bin_met+1]\n",
    "\n",
    "            with open(f'{folder}/confg.yaml', 'w+') as file:\n",
    "                yaml.dump(confg_copy, file, default_flow_style=False)"
   ]
  },
  {
   "cell_type": "code",
   "execution_count": null,
   "id": "fedfcdbd",
   "metadata": {},
   "outputs": [],
   "source": [
    "ipython"
   ]
  },
  {
   "cell_type": "code",
   "execution_count": 5,
   "id": "7801a175",
   "metadata": {},
   "outputs": [
    {
     "name": "stdout",
     "output_type": "stream",
     "text": [
      "cd /home/woody/caph/mppi062h/woody_output/final/fermilat//low_energy/full_time\n",
      "        source ~/.bash_profile\n",
      "        conda activate fermi\n",
      "cd /home/woody/caph/mppi062h/woody_output/final/fermilat//med_energy/full_time\n",
      "        source ~/.bash_profile\n",
      "        conda activate fermi\n",
      "cd /home/woody/caph/mppi062h/woody_output/final/fermilat//hi_energy/full_time\n",
      "        source ~/.bash_profile\n",
      "        conda activate fermi\n"
     ]
    }
   ],
   "source": [
    "for dataset_name in dataset_names:\n",
    "    print(\n",
    "    f'''cd {main_path}/{dataset_name}/full_time\n",
    "        source ~/.bash_profile\n",
    "        conda activate fermi''')"
   ]
  },
  {
   "cell_type": "code",
   "execution_count": 7,
   "id": "6605ba92",
   "metadata": {},
   "outputs": [
    {
     "name": "stdout",
     "output_type": "stream",
     "text": [
      "cd /home/woody/caph/mppi062h/woody_output/final/fermilat//med_energy/0_bin_met\n",
      "            source ~/.bash_profile\n",
      "            conda activate fermi\n",
      "cd /home/woody/caph/mppi062h/woody_output/final/fermilat//med_energy/1_bin_met\n",
      "            source ~/.bash_profile\n",
      "            conda activate fermi\n",
      "cd /home/woody/caph/mppi062h/woody_output/final/fermilat//med_energy/2_bin_met\n",
      "            source ~/.bash_profile\n",
      "            conda activate fermi\n",
      "cd /home/woody/caph/mppi062h/woody_output/final/fermilat//med_energy/3_bin_met\n",
      "            source ~/.bash_profile\n",
      "            conda activate fermi\n",
      "cd /home/woody/caph/mppi062h/woody_output/final/fermilat//med_energy/4_bin_met\n",
      "            source ~/.bash_profile\n",
      "            conda activate fermi\n",
      "cd /home/woody/caph/mppi062h/woody_output/final/fermilat//med_energy/5_bin_met\n",
      "            source ~/.bash_profile\n",
      "            conda activate fermi\n",
      "cd /home/woody/caph/mppi062h/woody_output/final/fermilat//med_energy/6_bin_met\n",
      "            source ~/.bash_profile\n",
      "            conda activate fermi\n",
      "cd /home/woody/caph/mppi062h/woody_output/final/fermilat//hi_energy/0_bin_met\n",
      "            source ~/.bash_profile\n",
      "            conda activate fermi\n",
      "cd /home/woody/caph/mppi062h/woody_output/final/fermilat//hi_energy/1_bin_met\n",
      "            source ~/.bash_profile\n",
      "            conda activate fermi\n",
      "cd /home/woody/caph/mppi062h/woody_output/final/fermilat//hi_energy/2_bin_met\n",
      "            source ~/.bash_profile\n",
      "            conda activate fermi\n",
      "cd /home/woody/caph/mppi062h/woody_output/final/fermilat//hi_energy/3_bin_met\n",
      "            source ~/.bash_profile\n",
      "            conda activate fermi\n",
      "cd /home/woody/caph/mppi062h/woody_output/final/fermilat//hi_energy/4_bin_met\n",
      "            source ~/.bash_profile\n",
      "            conda activate fermi\n",
      "cd /home/woody/caph/mppi062h/woody_output/final/fermilat//hi_energy/5_bin_met\n",
      "            source ~/.bash_profile\n",
      "            conda activate fermi\n",
      "cd /home/woody/caph/mppi062h/woody_output/final/fermilat//hi_energy/6_bin_met\n",
      "            source ~/.bash_profile\n",
      "            conda activate fermi\n"
     ]
    }
   ],
   "source": [
    "for dataset_name in dataset_names[1:]:\n",
    "    for n_bin_met in range(N_bin_met-1):\n",
    "        print(\n",
    "        f'''cd {main_path}/{dataset_name}/{n_bin_met}_bin_met\n",
    "            source ~/.bash_profile\n",
    "            conda activate fermi''')"
   ]
  },
  {
   "cell_type": "code",
   "execution_count": null,
   "id": "b8785382",
   "metadata": {},
   "outputs": [],
   "source": [
    "ipython\n",
    "from fermipy.gtanalysis import GTAnalysis\n",
    "gta = GTAnalysis('confg.yaml',logging={'verbosity' : 3})\n",
    "gta.setup()"
   ]
  },
  {
   "cell_type": "code",
   "execution_count": 6,
   "id": "a1158cc5",
   "metadata": {},
   "outputs": [
    {
     "name": "stdout",
     "output_type": "stream",
     "text": [
      "gtpsf expcube=\"/home/woody/caph/mppi062h/woody_output/final/fermilat//low_energy/full_time/ltcube_00.fits\" outfile=\"/home/woody/caph/mppi062h/woody_output/final/fermilat//low_energy/full_time/psf_00.fits\" irfs=P8R3_ULTRACLEANVETO_V3 ra=80. dec=-69. emin=30 emax=2000000 evtype=32 nenergies=1000 thetamax=30 ntheta=300\n",
      "gtpsf expcube=\"/home/woody/caph/mppi062h/woody_output/final/fermilat//med_energy/full_time/ltcube_00.fits\" outfile=\"/home/woody/caph/mppi062h/woody_output/final/fermilat//med_energy/full_time/psf_00.fits\" irfs=P8R3_ULTRACLEANVETO_V3 ra=80. dec=-69. emin=30 emax=2000000 evtype=32 nenergies=1000 thetamax=30 ntheta=300\n",
      "gtpsf expcube=\"/home/woody/caph/mppi062h/woody_output/final/fermilat//med_energy/0_bin_met/ltcube_00.fits\" outfile=\"/home/woody/caph/mppi062h/woody_output/final/fermilat//med_energy/0_bin_met/psf_00.fits\" irfs=P8R3_ULTRACLEANVETO_V3 ra=80. dec=-69. emin=30 emax=2000000 evtype=32 nenergies=1000 thetamax=30 ntheta=300\n",
      "gtpsf expcube=\"/home/woody/caph/mppi062h/woody_output/final/fermilat//med_energy/1_bin_met/ltcube_00.fits\" outfile=\"/home/woody/caph/mppi062h/woody_output/final/fermilat//med_energy/1_bin_met/psf_00.fits\" irfs=P8R3_ULTRACLEANVETO_V3 ra=80. dec=-69. emin=30 emax=2000000 evtype=32 nenergies=1000 thetamax=30 ntheta=300\n",
      "gtpsf expcube=\"/home/woody/caph/mppi062h/woody_output/final/fermilat//med_energy/2_bin_met/ltcube_00.fits\" outfile=\"/home/woody/caph/mppi062h/woody_output/final/fermilat//med_energy/2_bin_met/psf_00.fits\" irfs=P8R3_ULTRACLEANVETO_V3 ra=80. dec=-69. emin=30 emax=2000000 evtype=32 nenergies=1000 thetamax=30 ntheta=300\n",
      "gtpsf expcube=\"/home/woody/caph/mppi062h/woody_output/final/fermilat//med_energy/3_bin_met/ltcube_00.fits\" outfile=\"/home/woody/caph/mppi062h/woody_output/final/fermilat//med_energy/3_bin_met/psf_00.fits\" irfs=P8R3_ULTRACLEANVETO_V3 ra=80. dec=-69. emin=30 emax=2000000 evtype=32 nenergies=1000 thetamax=30 ntheta=300\n",
      "gtpsf expcube=\"/home/woody/caph/mppi062h/woody_output/final/fermilat//med_energy/4_bin_met/ltcube_00.fits\" outfile=\"/home/woody/caph/mppi062h/woody_output/final/fermilat//med_energy/4_bin_met/psf_00.fits\" irfs=P8R3_ULTRACLEANVETO_V3 ra=80. dec=-69. emin=30 emax=2000000 evtype=32 nenergies=1000 thetamax=30 ntheta=300\n",
      "gtpsf expcube=\"/home/woody/caph/mppi062h/woody_output/final/fermilat//med_energy/5_bin_met/ltcube_00.fits\" outfile=\"/home/woody/caph/mppi062h/woody_output/final/fermilat//med_energy/5_bin_met/psf_00.fits\" irfs=P8R3_ULTRACLEANVETO_V3 ra=80. dec=-69. emin=30 emax=2000000 evtype=32 nenergies=1000 thetamax=30 ntheta=300\n",
      "gtpsf expcube=\"/home/woody/caph/mppi062h/woody_output/final/fermilat//med_energy/6_bin_met/ltcube_00.fits\" outfile=\"/home/woody/caph/mppi062h/woody_output/final/fermilat//med_energy/6_bin_met/psf_00.fits\" irfs=P8R3_ULTRACLEANVETO_V3 ra=80. dec=-69. emin=30 emax=2000000 evtype=32 nenergies=1000 thetamax=30 ntheta=300\n",
      "gtpsf expcube=\"/home/woody/caph/mppi062h/woody_output/final/fermilat//hi_energy/full_time/ltcube_00.fits\" outfile=\"/home/woody/caph/mppi062h/woody_output/final/fermilat//hi_energy/full_time/psf_00.fits\" irfs=P8R3_SOURCE_V3 ra=80. dec=-69. emin=30 emax=2000000 evtype=512 nenergies=1000 thetamax=30 ntheta=300\n",
      "gtpsf expcube=\"/home/woody/caph/mppi062h/woody_output/final/fermilat//hi_energy/0_bin_met/ltcube_00.fits\" outfile=\"/home/woody/caph/mppi062h/woody_output/final/fermilat//hi_energy/0_bin_met/psf_00.fits\" irfs=P8R3_SOURCE_V3 ra=80. dec=-69. emin=30 emax=2000000 evtype=512 nenergies=1000 thetamax=30 ntheta=300\n",
      "gtpsf expcube=\"/home/woody/caph/mppi062h/woody_output/final/fermilat//hi_energy/1_bin_met/ltcube_00.fits\" outfile=\"/home/woody/caph/mppi062h/woody_output/final/fermilat//hi_energy/1_bin_met/psf_00.fits\" irfs=P8R3_SOURCE_V3 ra=80. dec=-69. emin=30 emax=2000000 evtype=512 nenergies=1000 thetamax=30 ntheta=300\n",
      "gtpsf expcube=\"/home/woody/caph/mppi062h/woody_output/final/fermilat//hi_energy/2_bin_met/ltcube_00.fits\" outfile=\"/home/woody/caph/mppi062h/woody_output/final/fermilat//hi_energy/2_bin_met/psf_00.fits\" irfs=P8R3_SOURCE_V3 ra=80. dec=-69. emin=30 emax=2000000 evtype=512 nenergies=1000 thetamax=30 ntheta=300\n",
      "gtpsf expcube=\"/home/woody/caph/mppi062h/woody_output/final/fermilat//hi_energy/3_bin_met/ltcube_00.fits\" outfile=\"/home/woody/caph/mppi062h/woody_output/final/fermilat//hi_energy/3_bin_met/psf_00.fits\" irfs=P8R3_SOURCE_V3 ra=80. dec=-69. emin=30 emax=2000000 evtype=512 nenergies=1000 thetamax=30 ntheta=300\n",
      "gtpsf expcube=\"/home/woody/caph/mppi062h/woody_output/final/fermilat//hi_energy/4_bin_met/ltcube_00.fits\" outfile=\"/home/woody/caph/mppi062h/woody_output/final/fermilat//hi_energy/4_bin_met/psf_00.fits\" irfs=P8R3_SOURCE_V3 ra=80. dec=-69. emin=30 emax=2000000 evtype=512 nenergies=1000 thetamax=30 ntheta=300\n",
      "gtpsf expcube=\"/home/woody/caph/mppi062h/woody_output/final/fermilat//hi_energy/5_bin_met/ltcube_00.fits\" outfile=\"/home/woody/caph/mppi062h/woody_output/final/fermilat//hi_energy/5_bin_met/psf_00.fits\" irfs=P8R3_SOURCE_V3 ra=80. dec=-69. emin=30 emax=2000000 evtype=512 nenergies=1000 thetamax=30 ntheta=300\n",
      "gtpsf expcube=\"/home/woody/caph/mppi062h/woody_output/final/fermilat//hi_energy/6_bin_met/ltcube_00.fits\" outfile=\"/home/woody/caph/mppi062h/woody_output/final/fermilat//hi_energy/6_bin_met/psf_00.fits\" irfs=P8R3_SOURCE_V3 ra=80. dec=-69. emin=30 emax=2000000 evtype=512 nenergies=1000 thetamax=30 ntheta=300\n"
     ]
    }
   ],
   "source": [
    "for dataset_name in dataset_names:   \n",
    "    if dataset_name == 'hi_energy':\n",
    "        irf = 'P8R3_SOURCE_V3'\n",
    "        ev_type=512\n",
    "    else:\n",
    "        irf = 'P8R3_ULTRACLEANVETO_V3'\n",
    "        ev_type=32\n",
    "\n",
    "    folder = f'{main_path}/{dataset_name}/full_time'\n",
    "    print(f'gtpsf expcube=\"{folder}/ltcube_00.fits\" outfile=\"{folder}/psf_00.fits\" irfs={irf} ra=80. dec=-69. emin=30 emax=2000000 evtype={ev_type} nenergies=1000 thetamax=30 ntheta=300')\n",
    "\n",
    "    if dataset_name != 'low_energy':\n",
    "        for n_bin_met in range(N_bin_met-1):\n",
    "            folder = f'{main_path}/{dataset_name}/{n_bin_met}_bin_met'\n",
    "            print(f'gtpsf expcube=\"{folder}/ltcube_00.fits\" outfile=\"{folder}/psf_00.fits\" irfs={irf} ra=80. dec=-69. emin=30 emax=2000000 evtype={ev_type} nenergies=1000 thetamax=30 ntheta=300')"
   ]
  }
 ],
 "metadata": {
  "kernelspec": {
   "display_name": "Python [conda env:fermi]",
   "language": "python",
   "name": "conda-env-fermi-py"
  },
  "language_info": {
   "codemirror_mode": {
    "name": "ipython",
    "version": 3
   },
   "file_extension": ".py",
   "mimetype": "text/x-python",
   "name": "python",
   "nbconvert_exporter": "python",
   "pygments_lexer": "ipython3",
   "version": "3.7.12"
  }
 },
 "nbformat": 4,
 "nbformat_minor": 5
}
