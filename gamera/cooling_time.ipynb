{
 "cells": [
  {
   "cell_type": "markdown",
   "id": "daf4d134",
   "metadata": {},
   "source": [
    "In this notebook I am varying the input parameters to understand better how the modeling is really working"
   ]
  },
  {
   "cell_type": "code",
   "execution_count": 1,
   "id": "15784b0c",
   "metadata": {},
   "outputs": [],
   "source": [
    "import numpy as np\n",
    "import matplotlib.pyplot as plt\n",
    "import csv\n",
    "import astropy.units as u\n",
    "\n",
    "import sys\n",
    "sys.path.append('/home/woody/caph/mppi062h/software/gamera/GAMERA/lib')"
   ]
  },
  {
   "cell_type": "code",
   "execution_count": 2,
   "id": "132fe48d",
   "metadata": {},
   "outputs": [],
   "source": [
    "import sys\n",
    "sys.path.append('/home/woody/caph/mppi062h/software/gamera/GAMERA/lib')\n",
    "import gappa as gp"
   ]
  },
  {
   "cell_type": "code",
   "execution_count": 3,
   "id": "fb8273ee",
   "metadata": {},
   "outputs": [],
   "source": [
    "# general parameters\n",
    "fu = gp.Utils()\n",
    "e_ref = 1*gp.TeV_to_erg # define reference energy as 100 TeV\n",
    "bins = 200\n",
    "energy_in_erg_pl = np.logspace(-6,3,bins) * gp.TeV_to_erg "
   ]
  },
  {
   "cell_type": "code",
   "execution_count": 4,
   "id": "37b3e052",
   "metadata": {},
   "outputs": [],
   "source": [
    "std_dic = {\n",
    "    'b_field' : 1e-4, # in Gauss, necessary for Synchrotron calculation\n",
    "    'density' : 1e3, # 1/cm^3, necessary for Bremsstrahlung and hadronic emission\n",
    "    # radiation field parameters, necessary for Inverse-Compton radiation. \n",
    "    'age' : 1e4, # yrs time to cool down with IC\n",
    "    'distance' : 8e3, # in pc\n",
    "    't_cmb' : 2.7, 'edens_cmb' : 0.26*gp.eV_to_erg,\n",
    "    't_UV' : 3, 'edens_UV' : 5e4*gp.eV_to_erg,\n",
    "    't_NIR' : 0.3, 'edens_NIR' : 5e4*gp.eV_to_erg,\n",
    "    't_FIR' : 6e-3, 'edens_FIR' : 5e2*gp.eV_to_erg,\n",
    "\n",
    "    # Defining particle spectrum\n",
    "    'alpha_pl' : 2,\n",
    "    'e_total_pl' : 6.7e36, # erg/s \n",
    "    'E_0' : 100*gp.TeV_to_erg,\n",
    "}"
   ]
  },
  {
   "cell_type": "code",
   "execution_count": 5,
   "id": "21616109",
   "metadata": {},
   "outputs": [],
   "source": [
    "dic=std_dic"
   ]
  },
  {
   "cell_type": "code",
   "execution_count": 6,
   "id": "8ddc862c",
   "metadata": {},
   "outputs": [],
   "source": [
    "import gappa as gp\n",
    "fp = gp.Particles()"
   ]
  },
  {
   "cell_type": "code",
   "execution_count": 7,
   "id": "98240265",
   "metadata": {},
   "outputs": [],
   "source": [
    "e = np.logspace(-5,3,bins) * gp.TeV_to_erg \n",
    "power_law = (e/gp.TeV_to_erg)**-2\n",
    "\n",
    "# renormalise to 1e37 erg/s\n",
    "fu = gp.Utils()\n",
    "power_law *= 1e37/fu.Integrate(list(zip(e,e*power_law)))\n",
    "\n",
    "# zip and set it up in the Particles-object\n",
    "fp.SetCustomInjectionSpectrum(list(zip(e,power_law)))"
   ]
  },
  {
   "cell_type": "code",
   "execution_count": 8,
   "id": "b8451dc1",
   "metadata": {},
   "outputs": [
    {
     "name": "stdout",
     "output_type": "stream",
     "text": [
      "Radiation::AddThermalTargetPhotons: energy density of radiation field insane. Are you sure of this?\n",
      "Radiation::AddThermalTargetPhotons: energy density of radiation field insane. Are you sure of this?\n"
     ]
    }
   ],
   "source": [
    "fp.SetBField(dic['b_field'])\n",
    "fp.SetAmbientDensity(dic['density'])\n",
    "\n",
    "fp.AddThermalTargetPhotons(dic['t_UV'], dic['edens_UV'],bins)\n",
    "fp.AddThermalTargetPhotons(dic['t_FIR'], dic['edens_FIR'],bins)\n",
    "fp.AddThermalTargetPhotons(dic['t_NIR'], dic['edens_NIR'],bins)\n",
    "fp.AddThermalTargetPhotons(dic['t_cmb'], dic['edens_cmb'],bins)"
   ]
  },
  {
   "cell_type": "code",
   "execution_count": 9,
   "id": "bfb4de22",
   "metadata": {},
   "outputs": [],
   "source": [
    "# set up radiation object\n",
    "fr = gp.Radiation()\n",
    "fr.AddArbitraryTargetPhotons(fp.GetTargetPhotons()) # output from 'Particles' is in the right format to be used in 'Radiation'\n",
    "fr.SetBField(dic['b_field'])\n",
    "fr.SetAmbientDensity(dic['density'])\n",
    "fr.SetDistance(dic['distance'])"
   ]
  },
  {
   "cell_type": "code",
   "execution_count": 10,
   "id": "9a2682c7",
   "metadata": {},
   "outputs": [
    {
     "name": "stdout",
     "output_type": "stream",
     "text": [
      "___________________________________\n",
      ">> STARTING NEW PARTICLE EVOLUTION \n",
      "   (-> electrons)     \n",
      ">> CALCULATING IC LOSS LOOKUP \n",
      "    99% done\n",
      "    -> DONE!   \n",
      "\n",
      ">> COMPUTATION OF IC LOSS LOOKUP COMPLETE \n",
      "\n",
      "** Evolving Electron Spectrum:\n",
      ">> PARTICLE EVOLUTION DONE. EXITING.\n",
      "\n",
      "_________________________________________\n",
      ">> CALCULATING SED FROM PARENT PARTICLES \n",
      "** Calculating differential gamma-ray emission:\n",
      "    100 / 100 points calculated\n",
      "    -> DONE!   \n",
      "\n",
      ">> SED CALCULATION DONE. EXITING.\n",
      "\n",
      "___________________________________\n",
      ">> STARTING NEW PARTICLE EVOLUTION \n",
      "   (-> electrons)     \n",
      "** Evolving Electron Spectrum:\n",
      ">> PARTICLE EVOLUTION DONE. EXITING.\n",
      "\n",
      "Radiation::SetParticles: Overwriting existing electron lookup.\n",
      "_________________________________________\n",
      ">> CALCULATING SED FROM PARENT PARTICLES \n",
      "** Calculating differential gamma-ray emission:\n",
      "    100 / 100 points calculated 100 points calculated\n",
      "    -> DONE!   \n",
      "\n",
      ">> SED CALCULATION DONE. EXITING.\n",
      "\n",
      "___________________________________\n",
      ">> STARTING NEW PARTICLE EVOLUTION \n",
      "   (-> electrons)     \n",
      "** Evolving Electron Spectrum:\n",
      ">> PARTICLE EVOLUTION DONE. EXITING.\n",
      "\n",
      "Radiation::SetParticles: Overwriting existing electron lookup.\n",
      "_________________________________________\n",
      ">> CALCULATING SED FROM PARENT PARTICLES \n",
      "** Calculating differential gamma-ray emission:\n",
      "    50 / 100 points calculated"
     ]
    }
   ],
   "source": [
    "time_steps = [1.5,2,3, 4, 5, 6, 7, 8, 9, 10]\n",
    "\n",
    "''' \n",
    "    Calculate the electron and radiation spectrum at different time steps\n",
    "'''\n",
    "rad = []\n",
    "part = []\n",
    "for t in time_steps:\n",
    "    fp.SetAge(t)\n",
    "    fp.SetSolverMethod(1)\n",
    "    fp.CalculateElectronSpectrum()\n",
    "\n",
    "    sp = np.array(fp.GetParticleSpectrum())\n",
    "    part.append(np.array(fp.GetParticleSED()))\n",
    "\n",
    "    fr.SetElectrons(sp)\n",
    "    fr.CalculateDifferentialPhotonSpectrum(np.logspace(-6,3,int(bins/2)) * gp.TeV_to_erg)\n",
    "    rad.append(np.array(fr.GetTotalSED()))"
   ]
  },
  {
   "cell_type": "code",
   "execution_count": 11,
   "id": "3ec3b50a",
   "metadata": {},
   "outputs": [
    {
     "name": "stdout",
     "output_type": "stream",
     "text": [
      "    100 / 100 points calculated\n",
      "    -> DONE!   \n",
      "\n",
      ">> SED CALCULATION DONE. EXITING.\n",
      "\n",
      "___________________________________\n",
      ">> STARTING NEW PARTICLE EVOLUTION \n",
      "   (-> electrons)     \n",
      "** Evolving Electron Spectrum:\n",
      ">> PARTICLE EVOLUTION DONE. EXITING.\n",
      "\n",
      "Radiation::SetParticles: Overwriting existing electron lookup.\n",
      "_________________________________________\n",
      ">> CALCULATING SED FROM PARENT PARTICLES \n",
      "** Calculating differential gamma-ray emission:\n",
      "    100 / 100 points calculated\n",
      "    -> DONE!   \n",
      "\n",
      ">> SED CALCULATION DONE. EXITING.\n",
      "\n",
      "___________________________________\n",
      ">> STARTING NEW PARTICLE EVOLUTION \n",
      "   (-> electrons)     \n",
      "** Evolving Electron Spectrum:\n",
      ">> PARTICLE EVOLUTION DONE. EXITING.\n",
      "\n",
      "Radiation::SetParticles: Overwriting existing electron lookup.\n",
      "_________________________________________\n",
      ">> CALCULATING SED FROM PARENT PARTICLES \n",
      "** Calculating differential gamma-ray emission:\n",
      "    100 / 100 points calculated\n",
      "    -> DONE!   \n",
      "\n",
      ">> SED CALCULATION DONE. EXITING.\n",
      "\n",
      "___________________________________\n",
      ">> STARTING NEW PARTICLE EVOLUTION \n",
      "   (-> electrons)     \n",
      "** Evolving Electron Spectrum:\n",
      ">> PARTICLE EVOLUTION DONE. EXITING.\n",
      "\n",
      "Radiation::SetParticles: Overwriting existing electron lookup.\n",
      "_________________________________________\n",
      ">> CALCULATING SED FROM PARENT PARTICLES \n",
      "** Calculating differential gamma-ray emission:\n",
      "    100 / 100 points calculated\n",
      "    -> DONE!   \n",
      "\n",
      ">> SED CALCULATION DONE. EXITING.\n",
      "\n",
      "___________________________________\n",
      ">> STARTING NEW PARTICLE EVOLUTION \n",
      "   (-> electrons)     \n",
      "** Evolving Electron Spectrum:\n",
      ">> PARTICLE EVOLUTION DONE. EXITING.\n",
      "\n",
      "Radiation::SetParticles: Overwriting existing electron lookup.\n",
      "_________________________________________\n",
      ">> CALCULATING SED FROM PARENT PARTICLES \n",
      "** Calculating differential gamma-ray emission:\n",
      "    100 / 100 points calculated\n",
      "    -> DONE!   \n",
      "\n",
      ">> SED CALCULATION DONE. EXITING.\n",
      "\n",
      "___________________________________\n",
      ">> STARTING NEW PARTICLE EVOLUTION \n",
      "   (-> electrons)     \n",
      "** Evolving Electron Spectrum:\n",
      ">> PARTICLE EVOLUTION DONE. EXITING.\n",
      "\n",
      "Radiation::SetParticles: Overwriting existing electron lookup.\n",
      "_________________________________________\n",
      ">> CALCULATING SED FROM PARENT PARTICLES \n",
      "** Calculating differential gamma-ray emission:\n",
      "    100 / 100 points calculated\n",
      "    -> DONE!   \n",
      "\n",
      ">> SED CALCULATION DONE. EXITING.\n",
      "\n",
      "___________________________________\n",
      ">> STARTING NEW PARTICLE EVOLUTION \n",
      "   (-> electrons)     \n",
      "** Evolving Electron Spectrum:\n",
      ">> PARTICLE EVOLUTION DONE. EXITING.\n",
      "\n",
      "Radiation::SetParticles: Overwriting existing electron lookup.\n",
      "_________________________________________\n",
      ">> CALCULATING SED FROM PARENT PARTICLES \n",
      "** Calculating differential gamma-ray emission:\n",
      "    100 / 100 points calculated\n",
      "    -> DONE!   \n",
      "\n",
      ">> SED CALCULATION DONE. EXITING.\n",
      "\n",
      "___________________________________\n",
      ">> STARTING NEW PARTICLE EVOLUTION \n",
      "   (-> electrons)     \n",
      "** Evolving Electron Spectrum:\n",
      ">> PARTICLE EVOLUTION DONE. EXITING.\n",
      "\n",
      "Radiation::SetParticles: Overwriting existing electron lookup.\n",
      "_________________________________________\n",
      ">> CALCULATING SED FROM PARENT PARTICLES \n",
      "** Calculating differential gamma-ray emission:\n",
      "    100 / 100 points calculated\n",
      "    -> DONE!   \n",
      "\n",
      ">> SED CALCULATION DONE. EXITING.\n",
      "\n"
     ]
    },
    {
     "data": {
      "image/png": "[encoded data removed]",
      "text/plain": [
       "<Figure size 864x432 with 2 Axes>"
      ]
     },
     "metadata": {
      "needs_background": "light"
     },
     "output_type": "display_data"
    }
   ],
   "source": [
    "''' \n",
    "    Calculate the radiation spectrum from the previously calculated electron distribution\n",
    "''' \n",
    "\n",
    "#### make a plot #####\n",
    "f, (ax1, ax2) = plt.subplots(1, 2,figsize=(12,6))\n",
    "ax1.set_prop_cycle('color',plt.get_cmap('plasma_r')(np.linspace(0.2, .8, len(time_steps))))  #\n",
    "for p,t in list(zip(part[1:],time_steps[1:])):\n",
    "    ax1.loglog(p[:,0],p[:,1],label=str(int(t)))\n",
    "ax1.set_xlabel(\"E (TeV)\")\n",
    "ax1.set_ylabel(\"E\"+r\"$^2$\"+\"dN/dE (erg)\")\n",
    "ax1.grid()\n",
    "ax1.legend(ncol=2,prop={'size':10},title=\"age(yrs):\")\n",
    "ax1.set_xlim(xmin=1e-6,xmax=2e3)\n",
    "ax1.set_ylim(ymin=1e40,ymax=1e45)\n",
    "ax1.set_title(\"Particle SEDs\")\n",
    "\n",
    "ax2.set_prop_cycle('color',plt.get_cmap('plasma_r')(np.linspace(0.2, .8, len(time_steps))))  #\n",
    "for r,t in list(zip(rad[1:],time_steps[1:])):\n",
    "    ax2.loglog(r[:,0],r[:,1],label=str(int(t)))\n",
    "ax2.set_xlabel(\"E (TeV)\")\n",
    "ax2.set_ylabel(\"E\"+r\"$^2$\"+\"dN/dE (erg/cm^2/s)\")\n",
    "ax2.legend(ncol=2,prop={'size':10},title=\"age(yrs):\")\n",
    "ax2.grid()\n",
    "ax2.set_xlim(xmin=1e-6,xmax=1e4)\n",
    "ax2.set_ylim(ymin=1e-14,ymax=1e-8)\n",
    "ax2.set_title(\"Radiation SEDs\")\n",
    "f.savefig(\"particles_static_timeseries.png\",bbox_inches='tight')\n"
   ]
  },
  {
   "cell_type": "code",
   "execution_count": null,
   "id": "e757ff3c",
   "metadata": {},
   "outputs": [],
   "source": []
  }
 ],
 "metadata": {
  "kernelspec": {
   "display_name": "Python [conda env:gammapy-0.19]",
   "language": "python",
   "name": "conda-env-gammapy-0.19-py"
  },
  "language_info": {
   "codemirror_mode": {
    "name": "ipython",
    "version": 3
   },
   "file_extension": ".py",
   "mimetype": "text/x-python",
   "name": "python",
   "nbconvert_exporter": "python",
   "pygments_lexer": "ipython3",
   "version": "3.9.9"
  }
 },
 "nbformat": 4,
 "nbformat_minor": 5
}
