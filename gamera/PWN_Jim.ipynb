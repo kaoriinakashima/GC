{
 "cells": [
  {
   "cell_type": "markdown",
   "id": "4462f998",
   "metadata": {},
   "source": [
    "In this notebook I am using the fluxpoints from the paper arXiv: 1503.05120 and try to understand the Gamera models"
   ]
  },
  {
   "cell_type": "markdown",
   "id": "e21bfea0",
   "metadata": {},
   "source": [
    "### the conclusion"
   ]
  },
  {
   "cell_type": "markdown",
   "id": "918ae28d",
   "metadata": {},
   "source": [
    "If I did everything correct with gamera, the input I am using from the paper does not describe the datapoints.\n",
    "\n",
    "Maybe some second order parameters is missing?\n",
    "\n",
    "Key points:\n",
    "the PWN can only reproduce TeV gammarays because of the high density radiation field. For the region of the PWN it is R4. \n",
    "It is assumed (from other experiments) B <~ 1e-4 G and n << 1e3 cm-3"
   ]
  },
  {
   "cell_type": "code",
   "execution_count": 1,
   "id": "3f0adee7",
   "metadata": {},
   "outputs": [],
   "source": [
    "import numpy as np\n",
    "import matplotlib.pyplot as plt\n",
    "import csv\n",
    "import astropy.units as u\n",
    "\n",
    "import sys\n",
    "sys.path.append('/home/woody/caph/mppi062h/software/gamera/GAMERA/lib')"
   ]
  },
  {
   "cell_type": "code",
   "execution_count": 2,
   "id": "7fda4bce",
   "metadata": {},
   "outputs": [],
   "source": [
    "names= ['Fermi', 'HESS']\n",
    "colors = ['red', 'blue']\n",
    "unit_y= 'erg/cm2/s'\n",
    "unit_x = 'eV'"
   ]
  },
  {
   "cell_type": "code",
   "execution_count": 3,
   "id": "83979d2e",
   "metadata": {},
   "outputs": [],
   "source": [
    "flux_points = []\n",
    "for name in names:\n",
    "    with open(f'data_from_paper/{name}.csv', newline='') as csvfile:\n",
    "        reader = csv.reader(csvfile)\n",
    "        fp_name = []\n",
    "        for row in reader:\n",
    "            fp_name.append(row)\n",
    "    flux_points.append(np.asarray(fp_name, dtype=float))"
   ]
  },
  {
   "cell_type": "code",
   "execution_count": 4,
   "id": "dfed4ec5",
   "metadata": {},
   "outputs": [
    {
     "data": {
      "text/plain": [
       "Text(0.5, 1.0, 'plot from paper')"
      ]
     },
     "execution_count": 4,
     "metadata": {},
     "output_type": "execute_result"
    },
    {
     "data": {
      "image/png": "[encoded data removed]",
      "text/plain": [
       "<Figure size 432x288 with 1 Axes>"
      ]
     },
     "metadata": {
      "needs_background": "light"
     },
     "output_type": "display_data"
    }
   ],
   "source": [
    "for i, fp_name in enumerate(flux_points):\n",
    "    plt.scatter(fp_name[:, 0], fp_name[:, 1], color=colors[i], label=names[i])\n",
    "plt.ylabel(unit_y)\n",
    "plt.xlabel(unit_x)\n",
    "plt.grid(alpha=0.25)\n",
    "plt.ylim(1e-14, 1e-9)\n",
    "plt.xlim(5e7, 1e14)\n",
    "plt.legend()\n",
    "plt.loglog()\n",
    "plt.title('plot from paper')"
   ]
  },
  {
   "cell_type": "markdown",
   "id": "5fb11a7b",
   "metadata": {},
   "source": [
    "### introdcuting gamera package"
   ]
  },
  {
   "cell_type": "code",
   "execution_count": 5,
   "id": "2932d214",
   "metadata": {},
   "outputs": [],
   "source": [
    "import sys\n",
    "sys.path.append('/home/woody/caph/mppi062h/software/gamera/GAMERA/lib')\n",
    "import gappa as gp"
   ]
  },
  {
   "cell_type": "code",
   "execution_count": 6,
   "id": "8073e017",
   "metadata": {},
   "outputs": [],
   "source": [
    "# Defining particle spectrum\n",
    "fu = gp.Utils()\n",
    "\n",
    "e_ref = 1*gp.TeV_to_erg # define reference energy as 100 TeV\n",
    "bins = 500\n",
    "\n",
    "energy_in_erg_pl = np.logspace(-6,3,bins) * gp.TeV_to_erg \n",
    "alpha_pl = 2.\n",
    "E_0 = 100*gp.TeV_to_erg\n",
    "e_total_pl = 6.7e36 # erg/s from Xray flux\n",
    "\n",
    "power_law = ((energy_in_erg_pl/e_ref)**-alpha_pl)*np.e**(-energy_in_erg_pl/E_0)\n",
    "power_law *= e_total_pl / fu.Integrate(list(zip(energy_in_erg_pl,power_law * energy_in_erg_pl)))\n",
    "power_law_spectrum = np.array(list(zip(energy_in_erg_pl,power_law)))"
   ]
  },
  {
   "cell_type": "code",
   "execution_count": 7,
   "id": "6e926b72",
   "metadata": {},
   "outputs": [],
   "source": [
    "fp = gp.Particles()"
   ]
  },
  {
   "cell_type": "code",
   "execution_count": 8,
   "id": "974f8212",
   "metadata": {},
   "outputs": [
    {
     "name": "stdout",
     "output_type": "stream",
     "text": [
      "___________________________________\n",
      ">> STARTING NEW PARTICLE EVOLUTION \n",
      "   (-> electrons)     \n",
      ">> CALCULATING IC LOSS LOOKUP \n",
      "    99% done\n",
      "    -> DONE!   \n",
      "\n",
      ">> COMPUTATION OF IC LOSS LOOKUP COMPLETE \n",
      "\n",
      "** Evolving Electron Spectrum:\n",
      "                                                                       \r"
     ]
    }
   ],
   "source": [
    "# environment parameters\n",
    "\n",
    "b_field = 1e-4 # in Gauss, necessary for Synchrotron calculation\n",
    "density = 1e3 # 1/cm^3, necessary for Bremsstrahlung and hadronic emission\n",
    "# radiation field parameters, necessary for Inverse-Compton radiation. \n",
    "age = 1e4 # yrs time to cool down with IC\n",
    "distance = 8e3 # in pc\n",
    "\n",
    "# describing region R4 from paper\n",
    "t_cmb = 2.7; edens_cmb = 0.26*gp.eV_to_erg\n",
    "t_UV = 3; edens_UV= 50*gp.eV_to_erg\n",
    "t_NIR = 0.3; edens_NIR= 50*gp.eV_to_erg\n",
    "t_FIR = 6e-3; edens_FIR= 5*gp.eV_to_erg\n",
    "\n",
    "# set the fields in the Radiation object\n",
    "fp.SetBField(b_field)\n",
    "fp.SetAmbientDensity(density)\n",
    "\n",
    "fp.AddThermalTargetPhotons(t_UV,edens_UV,bins)\n",
    "fp.AddThermalTargetPhotons(t_FIR,edens_FIR,bins)\n",
    "fp.AddThermalTargetPhotons(t_NIR,edens_NIR,bins)\n",
    "fp.AddThermalTargetPhotons(t_cmb,edens_cmb,bins)\n",
    "\n",
    "fp.SetCustomInjectionSpectrum(power_law_spectrum)\n",
    "fp.SetAge(age)\n",
    "\n",
    "fp.CalculateElectronSpectrum()\n",
    "#fp.CalculateProtonSpectrum() # uncomment, if you wish to calculate protons instead\n",
    "sp = np.array(fp.GetParticleSpectrum())\n",
    "sed = np.array(fp.GetParticleSED())"
   ]
  },
  {
   "cell_type": "code",
   "execution_count": 9,
   "id": "ffe91de6",
   "metadata": {},
   "outputs": [
    {
     "name": "stdout",
     "output_type": "stream",
     "text": [
      "    99% done                                                           \n",
      "    -> DONE!   \n",
      "\n",
      ">> PARTICLE EVOLUTION DONE. EXITING.\n",
      "\n",
      "___________________________________\n",
      ">> STARTING NEW PARTICLE EVOLUTION \n",
      "   (-> electrons)     \n",
      "** Evolving Electron Spectrum:\n",
      ">> PARTICLE EVOLUTION DONE. EXITING.\n",
      "\n"
     ]
    }
   ],
   "source": [
    "fp.SetSolverMethod(1)\n",
    "fp.CalculateElectronSpectrum()\n",
    "sp_s = np.array(fp.GetParticleSpectrum())\n",
    "sed_s = np.array(fp.GetParticleSED())"
   ]
  },
  {
   "cell_type": "code",
   "execution_count": 10,
   "id": "55a28815",
   "metadata": {},
   "outputs": [
    {
     "name": "stdout",
     "output_type": "stream",
     "text": [
      "_________________________________________\n",
      ">> CALCULATING SED FROM PARENT PARTICLES \n",
      "** Calculating differential gamma-ray emission:\n",
      "    97 / 250 points calculated"
     ]
    }
   ],
   "source": [
    "fr = gp.Radiation()\n",
    "fr.AddArbitraryTargetPhotons(fp.GetTargetPhotons()) # output from 'Particles' is in the right format to be used in 'Radiation'\n",
    "fr.SetBField(b_field)\n",
    "fr.SetAmbientDensity(density)\n",
    "fr.SetDistance(distance) # optional, in parsec. If not set or equals zero, luminosity instead of flux will be calculated\n",
    "fr.SetElectrons(sp)\n",
    "fr.CalculateDifferentialPhotonSpectrum(np.logspace(-19,3,int(bins/2)) * gp.TeV_to_erg)"
   ]
  },
  {
   "cell_type": "code",
   "execution_count": 11,
   "id": "bca61b48",
   "metadata": {},
   "outputs": [
    {
     "name": "stdout",
     "output_type": "stream",
     "text": [
      "    250 / 250 points calculated\n",
      "    -> DONE!   \n",
      "\n",
      ">> SED CALCULATION DONE. EXITING.\n",
      "\n"
     ]
    }
   ],
   "source": [
    "tot = np.array(fr.GetTotalSED())\n",
    "ic = np.array(fr.GetICSED())\n",
    "brems = np.array(fr.GetBremsstrahlungSED())\n",
    "synch = np.array(fr.GetSynchrotronSED())"
   ]
  },
  {
   "cell_type": "code",
   "execution_count": 12,
   "id": "b85b1f4a",
   "metadata": {},
   "outputs": [
    {
     "data": {
      "text/plain": [
       "Text(0.5, 1.0, 'Radiation SED (10000.0yrs)')"
      ]
     },
     "execution_count": 12,
     "metadata": {},
     "output_type": "execute_result"
    },
    {
     "data": {
      "image/png": "[encoded data removed]",
      "text/plain": [
       "<Figure size 864x432 with 2 Axes>"
      ]
     },
     "metadata": {
      "needs_background": "light"
     },
     "output_type": "display_data"
    }
   ],
   "source": [
    "#### make a plot #####\n",
    "f, (ax1, ax2) = plt.subplots(1, 2,figsize=(12,6))\n",
    "ax1.set_prop_cycle('color',plt.get_cmap('plasma_r')(np.linspace(0.2, .8, 2)))  #\n",
    "ax1.loglog(sed[:,0],sed[:,1],ls=\"-\",label=\"numerical\")\n",
    "ax1.loglog(sed_s[:,0],sed_s[:,1],ls=\":\",label=\"semianalytic\")\n",
    "ax1.set_xlabel(\"E (TeV)\")\n",
    "ax1.set_ylabel(\"E\"+r\"$^2$\"+\"dN/dE (erg)\")\n",
    "ax1.grid()\n",
    "ax1.legend()\n",
    "ax1.set_xlim(xmin=1e-6,xmax=2e3)\n",
    "#ax1.set_ylim(ymin=1e44,ymax=1e48)\n",
    "ax1.set_title(\"Particle SED (\"+ str(round(age,0))+\"yrs)\")\n",
    "\n",
    "ax2.set_prop_cycle('color',plt.get_cmap('plasma')(np.linspace(0., .8, 4)))  #\n",
    "for i, fp_name in enumerate(flux_points):\n",
    "    ax2.scatter(fp_name[:, 0]*1e-12, fp_name[:, 1], color=colors[i], label=names[i])\n",
    "ax2.loglog(tot[:,0],tot[:,1],ls=\"-\",label=\"total\",lw=3,alpha=0.3)\n",
    "ax2.loglog(synch[:,0],synch[:,1],ls=\":\",label=\"synch\")\n",
    "ax2.loglog(brems[:,0],brems[:,1],ls=\"-.\",label=\"brems\")\n",
    "ax2.loglog(ic[:,0],ic[:,1],linestyle=\"--\",label=\"IC\")\n",
    "ax2.set_xlabel(\"E (TeV)\")\n",
    "ax2.set_ylabel(\"E\"+r\"$^2$\"+\"dN/dE (erg/cm^2/s)\")\n",
    "ax2.legend(ncol=2,prop={'size':12})\n",
    "ax2.grid()\n",
    "ax2.set_xlim(xmin=1e-6,xmax=1e4)\n",
    "ax2.set_ylim(ymin=1e-15,ymax=1e-8)\n",
    "ax2.set_title(\"Radiation SED (\"+ str(round(age,0))+\"yrs)\")"
   ]
  },
  {
   "cell_type": "code",
   "execution_count": null,
   "id": "03bcbec7",
   "metadata": {},
   "outputs": [],
   "source": []
  },
  {
   "cell_type": "code",
   "execution_count": null,
   "id": "7488764b",
   "metadata": {},
   "outputs": [],
   "source": []
  },
  {
   "cell_type": "code",
   "execution_count": null,
   "id": "c5a23893",
   "metadata": {},
   "outputs": [],
   "source": []
  },
  {
   "cell_type": "code",
   "execution_count": 13,
   "id": "b9cb8983",
   "metadata": {},
   "outputs": [
    {
     "name": "stdout",
     "output_type": "stream",
     "text": [
      "___________________________________\n",
      ">> STARTING NEW PARTICLE EVOLUTION \n",
      "   (-> electrons)     \n",
      ">> CALCULATING IC LOSS LOOKUP \n",
      "    99% done\n",
      "    -> DONE!   \n",
      "\n",
      ">> COMPUTATION OF IC LOSS LOOKUP COMPLETE \n",
      "\n",
      "** Evolving Electron Spectrum:\n",
      ">> PARTICLE EVOLUTION DONE. EXITING.\n",
      "\n",
      "Radiation::SetParticles: Overwriting existing electron lookup.\n",
      "_________________________________________\n",
      ">> CALCULATING SED FROM PARENT PARTICLES \n",
      "** Calculating differential gamma-ray emission:\n",
      "    250 / 250 points calculatedalculated\n",
      "    -> DONE!   \n",
      "\n",
      ">> SED CALCULATION DONE. EXITING.\n",
      "\n",
      "___________________________________\n",
      ">> STARTING NEW PARTICLE EVOLUTION \n",
      "   (-> electrons)     \n",
      "** Evolving Electron Spectrum:\n",
      ">> PARTICLE EVOLUTION DONE. EXITING.\n",
      "\n",
      "Radiation::SetParticles: Overwriting existing electron lookup.\n",
      "_________________________________________\n",
      ">> CALCULATING SED FROM PARENT PARTICLES \n",
      "** Calculating differential gamma-ray emission:\n",
      "    250 / 250 points calculated\n",
      "    -> DONE!   \n",
      "\n",
      ">> SED CALCULATION DONE. EXITING.\n",
      "\n",
      "___________________________________\n",
      ">> STARTING NEW PARTICLE EVOLUTION \n",
      "   (-> electrons)     \n",
      "** Evolving Electron Spectrum:\n",
      ">> PARTICLE EVOLUTION DONE. EXITING.\n",
      "\n",
      "Radiation::SetParticles: Overwriting existing electron lookup.\n",
      "_________________________________________\n",
      ">> CALCULATING SED FROM PARENT PARTICLES \n",
      "** Calculating differential gamma-ray emission:\n",
      "    250 / 250 points calculated\n",
      "    -> DONE!   \n",
      "\n",
      ">> SED CALCULATION DONE. EXITING.\n",
      "\n",
      "___________________________________\n",
      ">> STARTING NEW PARTICLE EVOLUTION \n",
      "   (-> electrons)     \n",
      "** Evolving Electron Spectrum:\n",
      ">> PARTICLE EVOLUTION DONE. EXITING.\n",
      "\n",
      "Radiation::SetParticles: Overwriting existing electron lookup.\n",
      "_________________________________________\n",
      ">> CALCULATING SED FROM PARENT PARTICLES \n",
      "** Calculating differential gamma-ray emission:\n",
      "    250 / 250 points calculated\n",
      "    -> DONE!   \n",
      "\n",
      ">> SED CALCULATION DONE. EXITING.\n",
      "\n",
      "___________________________________\n",
      ">> STARTING NEW PARTICLE EVOLUTION \n",
      "   (-> electrons)     \n",
      "** Evolving Electron Spectrum:\n",
      ">> PARTICLE EVOLUTION DONE. EXITING.\n",
      "\n",
      "Radiation::SetParticles: Overwriting existing electron lookup.\n",
      "_________________________________________\n",
      ">> CALCULATING SED FROM PARENT PARTICLES \n",
      "** Calculating differential gamma-ray emission:\n",
      "    250 / 250 points calculated\n",
      "    -> DONE!   \n",
      "\n",
      ">> SED CALCULATION DONE. EXITING.\n",
      "\n",
      "___________________________________\n",
      ">> STARTING NEW PARTICLE EVOLUTION \n",
      "   (-> electrons)     \n",
      "** Evolving Electron Spectrum:\n",
      ">> PARTICLE EVOLUTION DONE. EXITING.\n",
      "\n",
      "Radiation::SetParticles: Overwriting existing electron lookup.\n",
      "_________________________________________\n",
      ">> CALCULATING SED FROM PARENT PARTICLES \n",
      "** Calculating differential gamma-ray emission:\n",
      "    250 / 250 points calculated\n",
      "    -> DONE!   \n",
      "\n",
      ">> SED CALCULATION DONE. EXITING.\n",
      "\n",
      "___________________________________\n",
      ">> STARTING NEW PARTICLE EVOLUTION \n",
      "   (-> electrons)     \n",
      "** Evolving Electron Spectrum:\n",
      ">> PARTICLE EVOLUTION DONE. EXITING.\n",
      "\n",
      "Radiation::SetParticles: Overwriting existing electron lookup.\n",
      "_________________________________________\n",
      ">> CALCULATING SED FROM PARENT PARTICLES \n",
      "** Calculating differential gamma-ray emission:\n",
      "    250 / 250 points calculated\n",
      "    -> DONE!   \n",
      "\n",
      ">> SED CALCULATION DONE. EXITING.\n",
      "\n",
      "___________________________________\n",
      ">> STARTING NEW PARTICLE EVOLUTION \n",
      "   (-> electrons)     \n",
      "** Evolving Electron Spectrum:\n",
      "    56% done\r"
     ]
    },
    {
     "ename": "KeyboardInterrupt",
     "evalue": "",
     "output_type": "error",
     "traceback": [
      "\u001b[0;31m---------------------------------------------------------------------------\u001b[0m",
      "\u001b[0;31mKeyboardInterrupt\u001b[0m                         Traceback (most recent call last)",
      "\u001b[0;32m/tmp/ipykernel_10194/64943491.py\u001b[0m in \u001b[0;36m<module>\u001b[0;34m\u001b[0m\n\u001b[1;32m      8\u001b[0m \u001b[0;32mfor\u001b[0m \u001b[0mt\u001b[0m \u001b[0;32min\u001b[0m \u001b[0mtime_steps\u001b[0m\u001b[0;34m:\u001b[0m\u001b[0;34m\u001b[0m\u001b[0;34m\u001b[0m\u001b[0m\n\u001b[1;32m      9\u001b[0m     \u001b[0mfp\u001b[0m\u001b[0;34m.\u001b[0m\u001b[0mSetAge\u001b[0m\u001b[0;34m(\u001b[0m\u001b[0mt\u001b[0m\u001b[0;34m)\u001b[0m\u001b[0;34m\u001b[0m\u001b[0;34m\u001b[0m\u001b[0m\n\u001b[0;32m---> 10\u001b[0;31m     \u001b[0mfp\u001b[0m\u001b[0;34m.\u001b[0m\u001b[0mCalculateElectronSpectrum\u001b[0m\u001b[0;34m(\u001b[0m\u001b[0;34m)\u001b[0m\u001b[0;34m\u001b[0m\u001b[0;34m\u001b[0m\u001b[0m\n\u001b[0m\u001b[1;32m     11\u001b[0m \u001b[0;34m\u001b[0m\u001b[0m\n\u001b[1;32m     12\u001b[0m     \u001b[0msp\u001b[0m \u001b[0;34m=\u001b[0m \u001b[0mnp\u001b[0m\u001b[0;34m.\u001b[0m\u001b[0marray\u001b[0m\u001b[0;34m(\u001b[0m\u001b[0mfp\u001b[0m\u001b[0;34m.\u001b[0m\u001b[0mGetParticleSpectrum\u001b[0m\u001b[0;34m(\u001b[0m\u001b[0;34m)\u001b[0m\u001b[0;34m)\u001b[0m\u001b[0;34m\u001b[0m\u001b[0;34m\u001b[0m\u001b[0m\n",
      "\u001b[0;32m/home/woody/caph/mppi062h/software/gamera/GAMERA/lib/gappa.py\u001b[0m in \u001b[0;36mCalculateElectronSpectrum\u001b[0;34m(self, bins)\u001b[0m\n\u001b[1;32m   1208\u001b[0m \u001b[0;34m\u001b[0m\u001b[0m\n\u001b[1;32m   1209\u001b[0m     \u001b[0;32mdef\u001b[0m \u001b[0mCalculateElectronSpectrum\u001b[0m\u001b[0;34m(\u001b[0m\u001b[0mself\u001b[0m\u001b[0;34m,\u001b[0m \u001b[0mbins\u001b[0m\u001b[0;34m=\u001b[0m\u001b[0;36m100\u001b[0m\u001b[0;34m)\u001b[0m\u001b[0;34m:\u001b[0m\u001b[0;34m\u001b[0m\u001b[0;34m\u001b[0m\u001b[0m\n\u001b[0;32m-> 1210\u001b[0;31m         \u001b[0;32mreturn\u001b[0m \u001b[0m_gappa\u001b[0m\u001b[0;34m.\u001b[0m\u001b[0mParticles_CalculateElectronSpectrum\u001b[0m\u001b[0;34m(\u001b[0m\u001b[0mself\u001b[0m\u001b[0;34m,\u001b[0m \u001b[0mbins\u001b[0m\u001b[0;34m)\u001b[0m\u001b[0;34m\u001b[0m\u001b[0;34m\u001b[0m\u001b[0m\n\u001b[0m\u001b[1;32m   1211\u001b[0m \u001b[0;34m\u001b[0m\u001b[0m\n\u001b[1;32m   1212\u001b[0m     \u001b[0;32mdef\u001b[0m \u001b[0mCalculateProtonSpectrumInTimeInterval\u001b[0m\u001b[0;34m(\u001b[0m\u001b[0mself\u001b[0m\u001b[0;34m,\u001b[0m \u001b[0mT1\u001b[0m\u001b[0;34m,\u001b[0m \u001b[0mT2\u001b[0m\u001b[0;34m,\u001b[0m \u001b[0mbins\u001b[0m\u001b[0;34m=\u001b[0m\u001b[0;36m100\u001b[0m\u001b[0;34m)\u001b[0m\u001b[0;34m:\u001b[0m\u001b[0;34m\u001b[0m\u001b[0;34m\u001b[0m\u001b[0m\n",
      "\u001b[0;31mKeyboardInterrupt\u001b[0m: "
     ]
    }
   ],
   "source": [
    "time_steps = np.logspace(1,6,10)\n",
    "\n",
    "''' \n",
    "    Calculate the electron and radiation spectrum at different time steps\n",
    "'''\n",
    "rad = []\n",
    "part = []\n",
    "for t in time_steps:\n",
    "    fp.SetAge(t)\n",
    "    fp.CalculateElectronSpectrum()\n",
    "\n",
    "    sp = np.array(fp.GetParticleSpectrum())\n",
    "    part.append(np.array(fp.GetParticleSED()))\n",
    "\n",
    "    fr.SetElectrons(sp)\n",
    "    fr.CalculateDifferentialPhotonSpectrum(np.logspace(-19,3,int(bins/2)) * gp.TeV_to_erg)\n",
    "    rad.append(np.array(fr.GetTotalSED()))\n",
    "\n",
    "\n",
    "''' \n",
    "    Calculate the radiation spectrum from the previously calculated electron distribution\n",
    "''' \n",
    "\n",
    "#### make a plot #####\n",
    "f, (ax1, ax2) = plt.subplots(1, 2,figsize=(12,6))\n",
    "ax1.set_prop_cycle('color',plt.get_cmap('plasma_r')(np.linspace(0.2, .8, len(time_steps))))  #\n",
    "for p,t in list(zip(part,time_steps)):\n",
    "    ax1.loglog(p[:,0],p[:,1],label=str(int(t)))\n",
    "ax1.set_xlabel(\"E (TeV)\")\n",
    "ax1.set_ylabel(\"E\"+r\"$^2$\"+\"dN/dE (erg)\")\n",
    "ax1.grid()\n",
    "ax1.legend(ncol=2,prop={'size':10},title=\"age(yrs):\")\n",
    "ax1.set_xlim(xmin=1e-6,xmax=2e3)\n",
    "ax1.set_ylim(ymin=1e40,ymax=1e52)\n",
    "ax1.set_title(\"Particle SEDs\")\n",
    "\n",
    "ax2.set_prop_cycle('color',plt.get_cmap('plasma_r')(np.linspace(0.2, .8, len(time_steps))))  #\n",
    "for r,t in list(zip(rad,time_steps)):\n",
    "    ax2.loglog(r[:,0],r[:,1],label=str(int(t)))\n",
    "ax2.set_xlabel(\"E (TeV)\")\n",
    "ax2.set_ylabel(\"E\"+r\"$^2$\"+\"dN/dE (erg/cm^2/s)\")\n",
    "ax2.legend(ncol=2,prop={'size':10},title=\"age(yrs):\")\n",
    "ax2.grid()\n",
    "ax2.set_xlim(xmin=1e-19,xmax=1e4)\n",
    "ax2.set_ylim(ymin=1e-15,ymax=1e-6)\n",
    "ax2.set_title(\"Radiation SEDs\")\n",
    "f.savefig(\"particles_static_timeseries.png\",bbox_inches='tight')"
   ]
  },
  {
   "cell_type": "code",
   "execution_count": null,
   "id": "9f7d6648",
   "metadata": {},
   "outputs": [],
   "source": []
  },
  {
   "cell_type": "code",
   "execution_count": null,
   "id": "4d90ba4a",
   "metadata": {},
   "outputs": [],
   "source": []
  },
  {
   "cell_type": "code",
   "execution_count": null,
   "id": "01dfca33",
   "metadata": {},
   "outputs": [],
   "source": []
  }
 ],
 "metadata": {
  "kernelspec": {
   "display_name": "Python [conda env:gammapy-0.19]",
   "language": "python",
   "name": "conda-env-gammapy-0.19-py"
  },
  "language_info": {
   "codemirror_mode": {
    "name": "ipython",
    "version": 3
   },
   "file_extension": ".py",
   "mimetype": "text/x-python",
   "name": "python",
   "nbconvert_exporter": "python",
   "pygments_lexer": "ipython3",
   "version": "3.9.9"
  }
 },
 "nbformat": 4,
 "nbformat_minor": 5
}
