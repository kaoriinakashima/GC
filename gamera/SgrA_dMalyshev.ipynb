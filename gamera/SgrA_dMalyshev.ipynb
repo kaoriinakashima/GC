{
 "cells": [
  {
   "cell_type": "markdown",
   "id": "926b4725",
   "metadata": {},
   "source": [
    "### the conclusion"
   ]
  },
  {
   "cell_type": "markdown",
   "id": "77b3b375",
   "metadata": {},
   "source": [
    "The assumptions:\n",
    "\n",
    "flare 300 years ago + weaker recent activity\n",
    "main source SgrA*\n",
    "\n",
    "density 1e3 cm-3\n",
    "soft photon field R3 from Jims paper\n",
    "magnetic field 10-1e3 micro G"
   ]
  },
  {
   "cell_type": "code",
   "execution_count": 1,
   "id": "173a07e8",
   "metadata": {},
   "outputs": [],
   "source": [
    "import numpy as np\n",
    "import matplotlib.pyplot as plt\n",
    "import csv\n",
    "import astropy.units as u\n",
    "\n",
    "import sys\n",
    "sys.path.append('/home/woody/caph/mppi062h/software/gamera/GAMERA/lib')"
   ]
  },
  {
   "cell_type": "code",
   "execution_count": 2,
   "id": "62e97bce",
   "metadata": {},
   "outputs": [],
   "source": [
    "names= ['Fermi', 'HESS']\n",
    "colors = ['red', 'blue']\n",
    "unit_y= 'erg/cm2/s'\n",
    "unit_x = 'eV'"
   ]
  },
  {
   "cell_type": "code",
   "execution_count": 3,
   "id": "94156c1e",
   "metadata": {},
   "outputs": [],
   "source": [
    "flux_points = []\n",
    "for name in names:\n",
    "    with open(f'data_from_paper/{name}.csv', newline='') as csvfile:\n",
    "        reader = csv.reader(csvfile)\n",
    "        fp_name = []\n",
    "        for row in reader:\n",
    "            fp_name.append(row)\n",
    "    flux_points.append(np.asarray(fp_name, dtype=float))"
   ]
  },
  {
   "cell_type": "code",
   "execution_count": 4,
   "id": "3ab4b559",
   "metadata": {},
   "outputs": [
    {
     "data": {
      "text/plain": [
       "Text(0.5, 1.0, 'plot from paper')"
      ]
     },
     "execution_count": 4,
     "metadata": {},
     "output_type": "execute_result"
    },
    {
     "data": {
      "image/png": "[encoded data removed]",
      "text/plain": [
       "<Figure size 432x288 with 1 Axes>"
      ]
     },
     "metadata": {
      "needs_background": "light"
     },
     "output_type": "display_data"
    }
   ],
   "source": [
    "for i, fp_name in enumerate(flux_points):\n",
    "    plt.scatter(fp_name[:, 0], fp_name[:, 1], color=colors[i], label=names[i])\n",
    "plt.ylabel(unit_y)\n",
    "plt.xlabel(unit_x)\n",
    "plt.grid(alpha=0.25)\n",
    "plt.ylim(1e-14, 1e-9)\n",
    "plt.xlim(5e7, 1e14)\n",
    "plt.legend()\n",
    "plt.loglog()\n",
    "plt.title('plot from paper')"
   ]
  },
  {
   "cell_type": "markdown",
   "id": "04df3a5c",
   "metadata": {},
   "source": [
    "### introdcuting gamera package"
   ]
  },
  {
   "cell_type": "code",
   "execution_count": 5,
   "id": "3597c4fb",
   "metadata": {},
   "outputs": [],
   "source": [
    "import sys\n",
    "sys.path.append('/home/woody/caph/mppi062h/software/gamera/GAMERA/lib')\n",
    "import gappa as gp"
   ]
  },
  {
   "cell_type": "code",
   "execution_count": 6,
   "id": "e79c6c42",
   "metadata": {},
   "outputs": [],
   "source": [
    "# general parameters\n",
    "fu = gp.Utils()\n",
    "e_ref = 1*gp.TeV_to_erg # define reference energy as 100 TeV\n",
    "bins = 500\n",
    "energy_in_erg_pl = np.logspace(-6,3,bins) * gp.TeV_to_erg "
   ]
  },
  {
   "cell_type": "code",
   "execution_count": 7,
   "id": "436e59f6",
   "metadata": {},
   "outputs": [],
   "source": [
    "# general environment parameters\n",
    "\n",
    "b_field = 2.5e-4 # in Gauss, necessary for Synchrotron calculation\n",
    "density = 1e3 # 1/cm^3, necessary for Bremsstrahlung and hadronic emission\n",
    "# radiation field parameters, necessary for Inverse-Compton radiation. \n",
    "age = 1e4 # yrs time to cool down with IC\n",
    "distance = 8e3 # in pc\n",
    "\n",
    "# describing region R4 from paper\n",
    "t_gen= 0.5; edens_gen = 5e4*gp.eV_to_erg\n",
    "\n",
    "t_cmb = 2.7; edens_cmb = 0.26*gp.eV_to_erg\n",
    "t_UV = 3; edens_UV= 5e4*gp.eV_to_erg\n",
    "t_NIR = 0.3; edens_NIR= 5e4*gp.eV_to_erg\n",
    "t_FIR = 6e-3; edens_FIR= 5e2*gp.eV_to_erg"
   ]
  },
  {
   "cell_type": "markdown",
   "id": "d72bd9c5",
   "metadata": {},
   "source": [
    "### first component: the flare"
   ]
  },
  {
   "cell_type": "code",
   "execution_count": 8,
   "id": "8d9a2223",
   "metadata": {},
   "outputs": [],
   "source": [
    "# Defining particle spectrum\n",
    "alpha_pl = 1.5\n",
    "e_total_pl = 2e39 # erg/s \n",
    "fraction_weak = 1e-2\n",
    "flare_duration= 10\n",
    "starting_time_flare= 300\n",
    "\n",
    "E_0 = 100*gp.TeV_to_erg\n",
    "\n",
    "power_law = ((energy_in_erg_pl/e_ref)**-alpha_pl)\n",
    "power_law *= e_total_pl / fu.Integrate(list(zip(energy_in_erg_pl,power_law * energy_in_erg_pl)))\n",
    "power_law_spectrum = np.array(list(zip(energy_in_erg_pl,power_law)))\n",
    "\n",
    "fp = gp.Particles()"
   ]
  },
  {
   "cell_type": "code",
   "execution_count": 9,
   "id": "2d89101d",
   "metadata": {},
   "outputs": [],
   "source": [
    "flare_time = age-starting_time_flare-flare_duration\n",
    "time_steps_big = np.logspace(0,np.log10(flare_time),100) #in years\n",
    "time_steps_fine = np.logspace(np.log10(flare_time),np.log10(age),100) #in years\n",
    "time_steps = np.concatenate([time_steps_big[:-1], time_steps_fine])"
   ]
  },
  {
   "cell_type": "code",
   "execution_count": 10,
   "id": "ba82fb96",
   "metadata": {},
   "outputs": [
    {
     "name": "stdout",
     "output_type": "stream",
     "text": [
      "Radiation::AddThermalTargetPhotons: energy density of radiation field insane. Are you sure of this?\n"
     ]
    }
   ],
   "source": [
    "# set the fields in the Radiation object\n",
    "fp.SetBField(b_field)\n",
    "fp.SetAmbientDensity(density)\n",
    "fp.SetAge(age)\n",
    "\n",
    "#fp.AddThermalTargetPhotons(t_gen,edens_gen,bins)\n",
    "\n",
    "fp.AddThermalTargetPhotons(t_UV,edens_UV,bins)\n",
    "fp.AddThermalTargetPhotons(t_FIR,edens_FIR,bins)\n",
    "fp.AddThermalTargetPhotons(t_NIR,edens_NIR,bins)\n",
    "fp.AddThermalTargetPhotons(t_cmb,edens_cmb,bins)"
   ]
  },
  {
   "cell_type": "code",
   "execution_count": 11,
   "id": "edb4fe32",
   "metadata": {},
   "outputs": [
    {
     "name": "stdout",
     "output_type": "stream",
     "text": [
      "Radiation::AddThermalTargetPhotons: energy density of radiation field insane. Are you sure of this?\n",
      "___________________________________\n",
      ">> STARTING NEW PARTICLE EVOLUTION \n",
      "   (-> electrons)     \n",
      ">> CALCULATING IC LOSS LOOKUP \n",
      "    99% done\n",
      "    -> DONE!   \n",
      "\n",
      ">> COMPUTATION OF IC LOSS LOOKUP COMPLETE \n",
      "\n",
      "** Evolving Electron Spectrum:\n",
      ">> PARTICLE EVOLUTION DONE. EXITING.\n",
      "\n"
     ]
    }
   ],
   "source": [
    "fp.SetCustomInjectionSpectrum(power_law_spectrum)\n",
    "\n",
    "dens_lum = np.asarray([e_total_pl if (t >= age-starting_time_flare and t<= age-starting_time_flare+flare_duration) else e_total_pl*fraction_weak for t in time_steps])\n",
    "dens = list(zip(time_steps,dens_lum))\n",
    "fp.SetLuminosity(dens)\n",
    "\n",
    "fp.SetSolverMethod(1)\n",
    "fp.CalculateElectronSpectrum()\n",
    "\n",
    "sp = np.array(fp.GetParticleSpectrum())\n",
    "sed = np.array(fp.GetParticleSED())"
   ]
  },
  {
   "cell_type": "code",
   "execution_count": 12,
   "id": "6e5f7683",
   "metadata": {},
   "outputs": [
    {
     "name": "stdout",
     "output_type": "stream",
     "text": [
      "_________________________________________\n",
      ">> CALCULATING SED FROM PARENT PARTICLES \n",
      "** Calculating differential gamma-ray emission:\n",
      "    129 / 250 points calculated"
     ]
    }
   ],
   "source": [
    "fr = gp.Radiation()\n",
    "fr.AddArbitraryTargetPhotons(fp.GetTargetPhotons()) # output from 'Particles' is in the right format to be used in 'Radiation'\n",
    "fr.SetBField(b_field)\n",
    "\n",
    "fr.SetAmbientDensity(density)\n",
    "fr.SetDistance(distance) # optional, in parsec. If not set or equals zero, luminosity instead of flux will be calculated\n",
    "fr.SetElectrons(sp)\n",
    "fr.CalculateDifferentialPhotonSpectrum(np.logspace(-19,3,int(bins/2)) * gp.TeV_to_erg)"
   ]
  },
  {
   "cell_type": "code",
   "execution_count": 13,
   "id": "3bd1cfd1",
   "metadata": {},
   "outputs": [
    {
     "name": "stdout",
     "output_type": "stream",
     "text": [
      "    250 / 250 points calculated\n",
      "    -> DONE!   \n",
      "\n",
      ">> SED CALCULATION DONE. EXITING.\n",
      "\n"
     ]
    }
   ],
   "source": [
    "tot = np.array(fr.GetTotalSED())\n",
    "ic = np.array(fr.GetICSED())\n",
    "brems = np.array(fr.GetBremsstrahlungSED())\n",
    "synch = np.array(fr.GetSynchrotronSED())"
   ]
  },
  {
   "cell_type": "code",
   "execution_count": 14,
   "id": "1762f1e6",
   "metadata": {},
   "outputs": [
    {
     "data": {
      "text/plain": [
       "Text(0.5, 1.0, 'Radiation SED (10000.0yrs)')"
      ]
     },
     "execution_count": 14,
     "metadata": {},
     "output_type": "execute_result"
    },
    {
     "data": {
      "image/png": "[encoded data removed]",
      "text/plain": [
       "<Figure size 864x432 with 2 Axes>"
      ]
     },
     "metadata": {
      "needs_background": "light"
     },
     "output_type": "display_data"
    }
   ],
   "source": [
    "#### make a plot #####\n",
    "f, (ax1, ax2) = plt.subplots(1, 2,figsize=(12,6))\n",
    "ax1.set_prop_cycle('color',plt.get_cmap('plasma_r')(np.linspace(0.2, .8, 2)))  #\n",
    "ax1.loglog(sed[:,0],sed[:,1],ls=\"-\",label=\"numerical\")\n",
    "#ax1.loglog(sed_s[:,0],sed_s[:,1],ls=\":\",label=\"semianalytic\")\n",
    "ax1.set_xlabel(\"E (TeV)\")\n",
    "ax1.set_ylabel(\"E\"+r\"$^2$\"+\"dN/dE (erg)\")\n",
    "ax1.grid()\n",
    "ax1.legend()\n",
    "ax1.set_xlim(xmin=1e-6,xmax=2e3)\n",
    "#ax1.set_ylim(ymin=1e44,ymax=1e48)\n",
    "ax1.set_title(\"Particle SED (\"+ str(round(age,0))+\"yrs)\")\n",
    "\n",
    "ax2.set_prop_cycle('color',plt.get_cmap('plasma')(np.linspace(0., .8, 4)))  #\n",
    "for i, fp_name in enumerate(flux_points):\n",
    "    ax2.scatter(fp_name[:, 0]*1e-12, fp_name[:, 1], color=colors[i], label=names[i])\n",
    "ax2.loglog(tot[:,0],tot[:,1],ls=\"-\",label=\"total\",lw=3,alpha=0.3)\n",
    "ax2.loglog(synch[:,0],synch[:,1],ls=\":\",label=\"synch\")\n",
    "ax2.loglog(brems[:,0],brems[:,1],ls=\"-.\",label=\"brems\")\n",
    "ax2.loglog(ic[:,0],ic[:,1],linestyle=\"--\",label=\"IC\")\n",
    "ax2.set_xlabel(\"E (TeV)\")\n",
    "ax2.set_ylabel(\"E\"+r\"$^2$\"+\"dN/dE (erg/cm^2/s)\")\n",
    "ax2.legend(ncol=2,prop={'size':12})\n",
    "ax2.grid()\n",
    "ax2.set_xlim(xmin=1e-6,xmax=1e4)\n",
    "ax2.set_ylim(ymin=1e-15,ymax=1e-8)\n",
    "ax2.set_title(\"Radiation SED (\"+ str(round(age,0))+\"yrs)\")"
   ]
  },
  {
   "cell_type": "code",
   "execution_count": 16,
   "id": "278ab2f6",
   "metadata": {},
   "outputs": [
    {
     "data": {
      "text/plain": [
       "[<matplotlib.lines.Line2D at 0x7f0b323fc0d0>]"
      ]
     },
     "execution_count": 16,
     "metadata": {},
     "output_type": "execute_result"
    },
    {
     "data": {
      "image/png": "[encoded data removed]",
      "text/plain": [
       "<Figure size 432x288 with 1 Axes>"
      ]
     },
     "metadata": {
      "needs_background": "light"
     },
     "output_type": "display_data"
    }
   ],
   "source": []
  },
  {
   "cell_type": "code",
   "execution_count": null,
   "id": "d006f35b",
   "metadata": {},
   "outputs": [],
   "source": []
  },
  {
   "cell_type": "code",
   "execution_count": null,
   "id": "e3c1c359",
   "metadata": {},
   "outputs": [],
   "source": []
  },
  {
   "cell_type": "code",
   "execution_count": null,
   "id": "11c65393",
   "metadata": {},
   "outputs": [],
   "source": []
  },
  {
   "cell_type": "code",
   "execution_count": 14,
   "id": "accf1486",
   "metadata": {},
   "outputs": [
    {
     "name": "stdout",
     "output_type": "stream",
     "text": [
      "___________________________________\n",
      ">> STARTING NEW PARTICLE EVOLUTION \n",
      "   (-> electrons)     \n",
      ">> CALCULATING IC LOSS LOOKUP \n",
      "    99% done\n",
      "    -> DONE!   \n",
      "\n",
      ">> COMPUTATION OF IC LOSS LOOKUP COMPLETE \n",
      "\n",
      "** Evolving Electron Spectrum:\n",
      ">> PARTICLE EVOLUTION DONE. EXITING.\n",
      "\n",
      "Radiation::SetParticles: Overwriting existing electron lookup.\n",
      "_________________________________________\n",
      ">> CALCULATING SED FROM PARENT PARTICLES \n",
      "** Calculating differential gamma-ray emission:\n",
      "    250 / 250 points calculatedpoints calculated\n",
      "    -> DONE!   \n",
      "\n",
      ">> SED CALCULATION DONE. EXITING.\n",
      "\n",
      "___________________________________\n",
      ">> STARTING NEW PARTICLE EVOLUTION \n",
      "   (-> electrons)     \n",
      "** Evolving Electron Spectrum:\n",
      ">> PARTICLE EVOLUTION DONE. EXITING.\n",
      "\n",
      "Radiation::SetParticles: Overwriting existing electron lookup.\n",
      "_________________________________________\n",
      ">> CALCULATING SED FROM PARENT PARTICLES \n",
      "** Calculating differential gamma-ray emission:\n",
      "    174 / 250 points calculated"
     ]
    },
    {
     "ename": "KeyboardInterrupt",
     "evalue": "",
     "output_type": "error",
     "traceback": [
      "\u001b[0;31m---------------------------------------------------------------------------\u001b[0m",
      "\u001b[0;31mKeyboardInterrupt\u001b[0m                         Traceback (most recent call last)",
      "\u001b[0;32m/tmp/ipykernel_24224/64943491.py\u001b[0m in \u001b[0;36m<module>\u001b[0;34m\u001b[0m\n\u001b[1;32m      8\u001b[0m \u001b[0;32mfor\u001b[0m \u001b[0mt\u001b[0m \u001b[0;32min\u001b[0m \u001b[0mtime_steps\u001b[0m\u001b[0;34m:\u001b[0m\u001b[0;34m\u001b[0m\u001b[0;34m\u001b[0m\u001b[0m\n\u001b[1;32m      9\u001b[0m     \u001b[0mfp\u001b[0m\u001b[0;34m.\u001b[0m\u001b[0mSetAge\u001b[0m\u001b[0;34m(\u001b[0m\u001b[0mt\u001b[0m\u001b[0;34m)\u001b[0m\u001b[0;34m\u001b[0m\u001b[0;34m\u001b[0m\u001b[0m\n\u001b[0;32m---> 10\u001b[0;31m     \u001b[0mfp\u001b[0m\u001b[0;34m.\u001b[0m\u001b[0mCalculateElectronSpectrum\u001b[0m\u001b[0;34m(\u001b[0m\u001b[0;34m)\u001b[0m\u001b[0;34m\u001b[0m\u001b[0;34m\u001b[0m\u001b[0m\n\u001b[0m\u001b[1;32m     11\u001b[0m \u001b[0;34m\u001b[0m\u001b[0m\n\u001b[1;32m     12\u001b[0m     \u001b[0msp\u001b[0m \u001b[0;34m=\u001b[0m \u001b[0mnp\u001b[0m\u001b[0;34m.\u001b[0m\u001b[0marray\u001b[0m\u001b[0;34m(\u001b[0m\u001b[0mfp\u001b[0m\u001b[0;34m.\u001b[0m\u001b[0mGetParticleSpectrum\u001b[0m\u001b[0;34m(\u001b[0m\u001b[0;34m)\u001b[0m\u001b[0;34m)\u001b[0m\u001b[0;34m\u001b[0m\u001b[0;34m\u001b[0m\u001b[0m\n",
      "\u001b[0;32m/home/woody/caph/mppi062h/software/gamera/GAMERA/lib/gappa.py\u001b[0m in \u001b[0;36mCalculateElectronSpectrum\u001b[0;34m(self, bins)\u001b[0m\n\u001b[1;32m   1208\u001b[0m \u001b[0;34m\u001b[0m\u001b[0m\n\u001b[1;32m   1209\u001b[0m     \u001b[0;32mdef\u001b[0m \u001b[0mCalculateElectronSpectrum\u001b[0m\u001b[0;34m(\u001b[0m\u001b[0mself\u001b[0m\u001b[0;34m,\u001b[0m \u001b[0mbins\u001b[0m\u001b[0;34m=\u001b[0m\u001b[0;36m100\u001b[0m\u001b[0;34m)\u001b[0m\u001b[0;34m:\u001b[0m\u001b[0;34m\u001b[0m\u001b[0;34m\u001b[0m\u001b[0m\n\u001b[0;32m-> 1210\u001b[0;31m         \u001b[0;32mreturn\u001b[0m \u001b[0m_gappa\u001b[0m\u001b[0;34m.\u001b[0m\u001b[0mParticles_CalculateElectronSpectrum\u001b[0m\u001b[0;34m(\u001b[0m\u001b[0mself\u001b[0m\u001b[0;34m,\u001b[0m \u001b[0mbins\u001b[0m\u001b[0;34m)\u001b[0m\u001b[0;34m\u001b[0m\u001b[0;34m\u001b[0m\u001b[0m\n\u001b[0m\u001b[1;32m   1211\u001b[0m \u001b[0;34m\u001b[0m\u001b[0m\n\u001b[1;32m   1212\u001b[0m     \u001b[0;32mdef\u001b[0m \u001b[0mCalculateProtonSpectrumInTimeInterval\u001b[0m\u001b[0;34m(\u001b[0m\u001b[0mself\u001b[0m\u001b[0;34m,\u001b[0m \u001b[0mT1\u001b[0m\u001b[0;34m,\u001b[0m \u001b[0mT2\u001b[0m\u001b[0;34m,\u001b[0m \u001b[0mbins\u001b[0m\u001b[0;34m=\u001b[0m\u001b[0;36m100\u001b[0m\u001b[0;34m)\u001b[0m\u001b[0;34m:\u001b[0m\u001b[0;34m\u001b[0m\u001b[0;34m\u001b[0m\u001b[0m\n",
      "\u001b[0;31mKeyboardInterrupt\u001b[0m: "
     ]
    },
    {
     "name": "stdout",
     "output_type": "stream",
     "text": [
      "    250 / 250 points calculated\n",
      "    -> DONE!   \n",
      "\n",
      ">> SED CALCULATION DONE. EXITING.\n",
      "\n",
      "___________________________________\n",
      ">> STARTING NEW PARTICLE EVOLUTION \n",
      "   (-> electrons)     \n",
      "** Evolving Electron Spectrum:\n",
      ">> PARTICLE EVOLUTION DONE. EXITING.\n",
      "\n",
      "Radiation::SetParticles: Overwriting existing electron lookup.\n",
      "_________________________________________\n",
      ">> CALCULATING SED FROM PARENT PARTICLES \n",
      "** Calculating differential gamma-ray emission:\n",
      "    250 / 250 points calculatedulated\n",
      "    -> DONE!   \n",
      "\n",
      ">> SED CALCULATION DONE. EXITING.\n",
      "\n",
      "___________________________________\n",
      ">> STARTING NEW PARTICLE EVOLUTION \n",
      "   (-> electrons)     \n",
      "** Evolving Electron Spectrum:\n",
      ">> PARTICLE EVOLUTION DONE. EXITING.\n",
      "\n",
      "Radiation::SetParticles: Overwriting existing electron lookup.\n",
      "_________________________________________\n",
      ">> CALCULATING SED FROM PARENT PARTICLES \n",
      "** Calculating differential gamma-ray emission:\n",
      "    250 / 250 points calculated\n",
      "    -> DONE!   \n",
      "\n",
      ">> SED CALCULATION DONE. EXITING.\n",
      "\n",
      "___________________________________\n",
      ">> STARTING NEW PARTICLE EVOLUTION \n",
      "   (-> electrons)     \n",
      "** Evolving Electron Spectrum:\n",
      ">> PARTICLE EVOLUTION DONE. EXITING.\n",
      "\n",
      "Radiation::SetParticles: Overwriting existing electron lookup.\n",
      "_________________________________________\n",
      ">> CALCULATING SED FROM PARENT PARTICLES \n",
      "** Calculating differential gamma-ray emission:\n",
      "    250 / 250 points calculated0 points calculated\n",
      "    -> DONE!   \n",
      "\n",
      ">> SED CALCULATION DONE. EXITING.\n",
      "\n",
      "___________________________________\n",
      ">> STARTING NEW PARTICLE EVOLUTION \n",
      "   (-> electrons)     \n",
      "** Evolving Electron Spectrum:\n",
      ">> PARTICLE EVOLUTION DONE. EXITING.\n",
      "\n",
      "Radiation::SetParticles: Overwriting existing electron lookup.\n",
      "_________________________________________\n",
      ">> CALCULATING SED FROM PARENT PARTICLES \n",
      "** Calculating differential gamma-ray emission:\n",
      "    250 / 250 points calculated\n",
      "    -> DONE!   \n",
      "\n",
      ">> SED CALCULATION DONE. EXITING.\n",
      "\n",
      "___________________________________\n",
      ">> STARTING NEW PARTICLE EVOLUTION \n",
      "   (-> electrons)     \n",
      "** Evolving Electron Spectrum:\n",
      ">> PARTICLE EVOLUTION DONE. EXITING.\n",
      "\n",
      "Radiation::SetParticles: Overwriting existing electron lookup.\n",
      "_________________________________________\n",
      ">> CALCULATING SED FROM PARENT PARTICLES \n",
      "** Calculating differential gamma-ray emission:\n",
      "    250 / 250 points calculated\n",
      "    -> DONE!   \n",
      "\n",
      ">> SED CALCULATION DONE. EXITING.\n",
      "\n",
      "___________________________________\n",
      ">> STARTING NEW PARTICLE EVOLUTION \n",
      "   (-> electrons)     \n",
      "** Evolving Electron Spectrum:\n",
      "    56% done\r"
     ]
    }
   ],
   "source": [
    "time_steps = np.logspace(1,6,10)\n",
    "\n",
    "''' \n",
    "    Calculate the electron and radiation spectrum at different time steps\n",
    "'''\n",
    "rad = []\n",
    "part = []\n",
    "for t in time_steps:\n",
    "    fp.SetAge(t)\n",
    "    fp.CalculateElectronSpectrum()\n",
    "\n",
    "    sp = np.array(fp.GetParticleSpectrum())\n",
    "    part.append(np.array(fp.GetParticleSED()))\n",
    "\n",
    "    fr.SetElectrons(sp)\n",
    "    fr.CalculateDifferentialPhotonSpectrum(np.logspace(-19,3,int(bins/2)) * gp.TeV_to_erg)\n",
    "    rad.append(np.array(fr.GetTotalSED()))\n",
    "\n",
    "\n",
    "''' \n",
    "    Calculate the radiation spectrum from the previously calculated electron distribution\n",
    "''' \n",
    "\n",
    "#### make a plot #####\n",
    "f, (ax1, ax2) = plt.subplots(1, 2,figsize=(12,6))\n",
    "ax1.set_prop_cycle('color',plt.get_cmap('plasma_r')(np.linspace(0.2, .8, len(time_steps))))  #\n",
    "for p,t in list(zip(part,time_steps)):\n",
    "    ax1.loglog(p[:,0],p[:,1],label=str(int(t)))\n",
    "ax1.set_xlabel(\"E (TeV)\")\n",
    "ax1.set_ylabel(\"E\"+r\"$^2$\"+\"dN/dE (erg)\")\n",
    "ax1.grid()\n",
    "ax1.legend(ncol=2,prop={'size':10},title=\"age(yrs):\")\n",
    "ax1.set_xlim(xmin=1e-6,xmax=2e3)\n",
    "ax1.set_ylim(ymin=1e40,ymax=1e52)\n",
    "ax1.set_title(\"Particle SEDs\")\n",
    "\n",
    "ax2.set_prop_cycle('color',plt.get_cmap('plasma_r')(np.linspace(0.2, .8, len(time_steps))))  #\n",
    "for r,t in list(zip(rad,time_steps)):\n",
    "    ax2.loglog(r[:,0],r[:,1],label=str(int(t)))\n",
    "ax2.set_xlabel(\"E (TeV)\")\n",
    "ax2.set_ylabel(\"E\"+r\"$^2$\"+\"dN/dE (erg/cm^2/s)\")\n",
    "ax2.legend(ncol=2,prop={'size':10},title=\"age(yrs):\")\n",
    "ax2.grid()\n",
    "ax2.set_xlim(xmin=1e-19,xmax=1e4)\n",
    "ax2.set_ylim(ymin=1e-15,ymax=1e-6)\n",
    "ax2.set_title(\"Radiation SEDs\")\n",
    "f.savefig(\"particles_static_timeseries.png\",bbox_inches='tight')"
   ]
  },
  {
   "cell_type": "code",
   "execution_count": null,
   "id": "ad633941",
   "metadata": {},
   "outputs": [],
   "source": []
  },
  {
   "cell_type": "code",
   "execution_count": null,
   "id": "98465230",
   "metadata": {},
   "outputs": [],
   "source": []
  },
  {
   "cell_type": "code",
   "execution_count": null,
   "id": "1b306f80",
   "metadata": {},
   "outputs": [],
   "source": [
    "#!/usr/local/bin/python\n",
    "\n",
    "import sys\n",
    "import os\n",
    "sys.path.append(os.path.abspath('path/to/your/lib/directory'))\n",
    "import gappa as gp\n",
    "import numpy as np\n",
    "import matplotlib.pyplot as plt\n",
    "\n",
    "if __name__ == \"__main__\":\n",
    "\n",
    "    fu = gp.Utils()\n",
    "    fu.DrawGamera()\n",
    "\n",
    "    bins = 500\n",
    "\n",
    "    # define reference energy as 1 TeV\n",
    "    e_ref = gp.TeV_to_erg\n",
    "\n",
    "    '''\n",
    "        example: define a power-law spectrum. Units:\n",
    "        E(erg) - dN/dE (1/erg/s)\n",
    "    '''\n",
    "    logemin = -5; logemax = 3\n",
    "    # it is good to add a margin at the upper end of the energy range. That is,\n",
    "    # due to the algorithm, at the highest bins a downwards bias can occur. \n",
    "    energy_in_erg_pl = np.logspace(logemin,logemax,bins) * gp.TeV_to_erg \n",
    "    alpha_pl = 2; e_total_pl = 1e37 # erg\n",
    "    power_law = (energy_in_erg_pl/e_ref)**-alpha_pl\n",
    "    # renormalise to e_total_pl (integrate E*dN/dE over E)\n",
    "    power_law *= e_total_pl / fu.Integrate(list(zip(energy_in_erg_pl,power_law * energy_in_erg_pl)))\n",
    "    # cast into a 2D array\n",
    "    power_law_spectrum = np.array(list(zip(energy_in_erg_pl,power_law)))\n",
    "\n",
    "\n",
    "    fp = gp.Particles()\n",
    "\n",
    "    '''\n",
    "        define loss terms:\n",
    "        - Synchrotron losses     <-> B-Field strength\n",
    "        - Inverse-Compton losses <-> Radiation fields\n",
    "        - Bremsstrahlung losses\n",
    "    '''\n",
    "    b_field = 1e-5 # Gauss\n",
    "    density = 5 # 1/cm^3\n",
    "    age = 1e4 # yrs\n",
    "    distance = 1e3 # pc\n",
    "\n",
    "    fp.SetBField(b_field)\n",
    "    fp.SetAmbientDensity(density)\n",
    "\n",
    "    ''' \n",
    "        the following are the parameters of the CMB\n",
    "        See also the tutorial on how to set target fields in the GAMERA docu!\n",
    "    '''\n",
    "    t_cmb = 2.7; edens_cmb = 0.4*gp.eV_to_erg\n",
    "\n",
    "    # set the fields in the Radiation object\n",
    "    fp.AddThermalTargetPhotons(t_cmb,edens_cmb,bins)\n",
    "    fp.SetCustomInjectionSpectrum(power_law_spectrum)\n",
    "\n",
    "    # set up radiation object\n",
    "    fr = gp.Radiation()\n",
    "    fr.AddArbitraryTargetPhotons(fp.GetTargetPhotons()) # output from 'Particles' is in the right format to be used in 'Radiation'\n",
    "    fr.SetBField(b_field)\n",
    "    fr.SetAmbientDensity(density)\n",
    "    fr.SetDistance(distance) # optional, in parsec. If not set or equals zero, luminosity instead of flux will be calculated\n",
    "\n",
    "\n",
    "    time_steps = np.logspace(1,6,10)\n",
    "\n",
    "    ''' \n",
    "        Calculate the electron and radiation spectrum at different time steps\n",
    "    '''\n",
    "    rad = []\n",
    "    part = []\n",
    "    for t in time_steps:\n",
    "        fp.SetAge(t)\n",
    "        fp.CalculateElectronSpectrum()\n",
    "        \n",
    "        sp = np.array(fp.GetParticleSpectrum())\n",
    "        part.append(np.array(fp.GetParticleSED()))\n",
    "\n",
    "        fr.SetElectrons(sp)\n",
    "        fr.CalculateDifferentialPhotonSpectrum(np.logspace(-19,3,bins/2) * gp.TeV_to_erg)\n",
    "        rad.append(np.array(fr.GetTotalSED()))\n",
    "        \n",
    "    \n",
    "\n",
    "\n",
    "    ''' \n",
    "        Calculate the radiation spectrum from the previously calculated electron distribution\n",
    "    ''' \n",
    "\n",
    "    #### make a plot #####\n",
    "    f, (ax1, ax2) = plt.subplots(1, 2,figsize=(12,6))\n",
    "    ax1.set_prop_cycle('color',plt.get_cmap('plasma_r')(np.linspace(0.2, .8, len(time_steps))))  #\n",
    "    for p,t in list(zip(part,time_steps)):\n",
    "        ax1.loglog(p[:,0],p[:,1],label=str(int(t)))\n",
    "    ax1.set_xlabel(\"E (TeV)\")\n",
    "    ax1.set_ylabel(\"E\"+r\"$^2$\"+\"dN/dE (erg)\")\n",
    "    ax1.grid()\n",
    "    ax1.legend(ncol=2,prop={'size':10},title=\"age(yrs):\")\n",
    "    ax1.set_xlim(xmin=1e-6,xmax=2e3)\n",
    "    ax1.set_ylim(ymin=1e40,ymax=1e52)\n",
    "    ax1.set_title(\"Particle SEDs\")\n",
    "\n",
    "    ax2.set_prop_cycle('color',plt.get_cmap('plasma_r')(np.linspace(0.2, .8, len(time_steps))))  #\n",
    "    for r,t in list(zip(rad,time_steps)):\n",
    "        ax2.loglog(r[:,0],r[:,1],label=str(int(t)))\n",
    "    ax2.set_xlabel(\"E (TeV)\")\n",
    "    ax2.set_ylabel(\"E\"+r\"$^2$\"+\"dN/dE (erg/cm^2/s)\")\n",
    "    ax2.legend(ncol=2,prop={'size':10},title=\"age(yrs):\")\n",
    "    ax2.grid()\n",
    "    ax2.set_xlim(xmin=1e-19,xmax=1e4)\n",
    "    ax2.set_ylim(ymin=1e-15,ymax=1e-6)\n",
    "    ax2.set_title(\"Radiation SEDs\")\n",
    "    f.savefig(\"particles_static_timeseries.png\",bbox_inches='tight')\n"
   ]
  }
 ],
 "metadata": {
  "kernelspec": {
   "display_name": "Python [conda env:gammapy-0.19]",
   "language": "python",
   "name": "conda-env-gammapy-0.19-py"
  },
  "language_info": {
   "codemirror_mode": {
    "name": "ipython",
    "version": 3
   },
   "file_extension": ".py",
   "mimetype": "text/x-python",
   "name": "python",
   "nbconvert_exporter": "python",
   "pygments_lexer": "ipython3",
   "version": "3.9.9"
  }
 },
 "nbformat": 4,
 "nbformat_minor": 5
}
