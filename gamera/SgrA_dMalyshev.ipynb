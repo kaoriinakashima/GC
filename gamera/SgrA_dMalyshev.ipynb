{
 "cells": [
  {
   "cell_type": "markdown",
   "id": "a465e8f7",
   "metadata": {},
   "source": [
    "### the conclusion"
   ]
  },
  {
   "cell_type": "markdown",
   "id": "8e355942",
   "metadata": {},
   "source": [
    "I am still not able to reproduce this plot exactly. But one thing is important: the spectrum has index 1.5, which means more particles in the high energy, which means these will emit IC, and the left over would be for bremstrahlung and these could emit the GeV emission. However, from this tests I am running, bremsstrahlung would need longer time.\n",
    "\n",
    "To be tested further."
   ]
  },
  {
   "cell_type": "code",
   "execution_count": 31,
   "id": "09d5cf08",
   "metadata": {},
   "outputs": [],
   "source": [
    "import numpy as np\n",
    "import matplotlib.pyplot as plt\n",
    "import csv\n",
    "import astropy.units as u\n",
    "\n",
    "import sys\n",
    "sys.path.append('/home/woody/caph/mppi062h/software/gamera/GAMERA/lib')"
   ]
  },
  {
   "cell_type": "code",
   "execution_count": 2,
   "id": "87000918",
   "metadata": {},
   "outputs": [],
   "source": [
    "names= ['Fermi', 'HESS']\n",
    "colors = ['red', 'blue']\n",
    "unit_y= 'erg/cm2/s'\n",
    "unit_x = 'eV'"
   ]
  },
  {
   "cell_type": "code",
   "execution_count": 3,
   "id": "8bcc6e67",
   "metadata": {},
   "outputs": [],
   "source": [
    "flux_points = []\n",
    "for name in names:\n",
    "    with open(f'data_from_paper/{name}.csv', newline='') as csvfile:\n",
    "        reader = csv.reader(csvfile)\n",
    "        fp_name = []\n",
    "        for row in reader:\n",
    "            fp_name.append(row)\n",
    "    flux_points.append(np.asarray(fp_name, dtype=float))"
   ]
  },
  {
   "cell_type": "code",
   "execution_count": 4,
   "id": "2f24f702",
   "metadata": {},
   "outputs": [
    {
     "data": {
      "text/plain": [
       "Text(0.5, 1.0, 'plot from paper')"
      ]
     },
     "execution_count": 4,
     "metadata": {},
     "output_type": "execute_result"
    },
    {
     "data": {
      "image/png": "[encoded data removed]",
      "text/plain": [
       "<Figure size 432x288 with 1 Axes>"
      ]
     },
     "metadata": {
      "needs_background": "light"
     },
     "output_type": "display_data"
    }
   ],
   "source": [
    "for i, fp_name in enumerate(flux_points):\n",
    "    plt.scatter(fp_name[:, 0], fp_name[:, 1], color=colors[i], label=names[i])\n",
    "plt.ylabel(unit_y)\n",
    "plt.xlabel(unit_x)\n",
    "plt.grid(alpha=0.25)\n",
    "plt.ylim(1e-14, 1e-9)\n",
    "plt.xlim(5e7, 1e14)\n",
    "plt.legend()\n",
    "plt.loglog()\n",
    "plt.title('plot from paper')"
   ]
  },
  {
   "cell_type": "markdown",
   "id": "8b14a221",
   "metadata": {},
   "source": [
    "### introdcuting gamera package"
   ]
  },
  {
   "cell_type": "code",
   "execution_count": 5,
   "id": "a9ea9e34",
   "metadata": {},
   "outputs": [],
   "source": [
    "import sys\n",
    "sys.path.append('/home/woody/caph/mppi062h/software/gamera/GAMERA/lib')\n",
    "import gappa as gp"
   ]
  },
  {
   "cell_type": "code",
   "execution_count": 22,
   "id": "4d9d03a9",
   "metadata": {},
   "outputs": [],
   "source": [
    "# general parameters\n",
    "fu = gp.Utils()\n",
    "e_ref = 1*gp.TeV_to_erg # define reference energy as 100 TeV\n",
    "bins = 500\n",
    "energy_in_erg_pl = np.logspace(-6,3,bins) * gp.TeV_to_erg "
   ]
  },
  {
   "cell_type": "code",
   "execution_count": 23,
   "id": "823a4c56",
   "metadata": {},
   "outputs": [],
   "source": [
    "# general environment parameters\n",
    "\n",
    "b_field = 2.5e-4 # in Gauss, necessary for Synchrotron calculation\n",
    "density = 1e3 # 1/cm^3, necessary for Bremsstrahlung and hadronic emission\n",
    "# radiation field parameters, necessary for Inverse-Compton radiation. \n",
    "age = 500 # yrs time to cool down with IC\n",
    "distance = 8e3 # in pc\n",
    "\n",
    "# describing region R4 from paper\n",
    "t_gen= 0.5; edens_gen = 5e4*gp.eV_to_erg\n",
    "\n",
    "t_cmb = 2.7; edens_cmb = 0.26*gp.eV_to_erg\n",
    "t_UV = 3; edens_UV= 5e4*gp.eV_to_erg\n",
    "t_NIR = 0.3; edens_NIR= 5e4*gp.eV_to_erg\n",
    "t_FIR = 6e-3; edens_FIR= 5e2*gp.eV_to_erg"
   ]
  },
  {
   "cell_type": "markdown",
   "id": "6e3bcda1",
   "metadata": {},
   "source": [
    "### first component: the flare"
   ]
  },
  {
   "cell_type": "code",
   "execution_count": 24,
   "id": "a56bbc5f",
   "metadata": {},
   "outputs": [],
   "source": [
    "# Defining particle spectrum\n",
    "alpha_pl = 1.5\n",
    "e_total_pl = 2e39 # erg/s \n",
    "fraction_weak = 1/1.7e4\n",
    "flare_duration= 10\n",
    "starting_time_flare= 310\n",
    "\n",
    "E_0 = 100*gp.TeV_to_erg\n",
    "\n",
    "power_law = ((energy_in_erg_pl/e_ref)**-alpha_pl)\n",
    "power_law *= e_total_pl / fu.Integrate(list(zip(energy_in_erg_pl,power_law * energy_in_erg_pl)))\n",
    "power_law_spectrum = np.array(list(zip(energy_in_erg_pl,power_law)))\n",
    "\n",
    "fp = gp.Particles()"
   ]
  },
  {
   "cell_type": "code",
   "execution_count": 25,
   "id": "707526b0",
   "metadata": {},
   "outputs": [],
   "source": [
    "flare_time = age-starting_time_flare-flare_duration\n",
    "time_steps_big = np.logspace(0,np.log10(flare_time),100) #in years\n",
    "time_steps_fine = np.logspace(np.log10(flare_time),np.log10(age),100) #in years\n",
    "time_steps = np.concatenate([time_steps_big[:-1], time_steps_fine])"
   ]
  },
  {
   "cell_type": "code",
   "execution_count": 26,
   "id": "dcc3d4af",
   "metadata": {},
   "outputs": [
    {
     "name": "stdout",
     "output_type": "stream",
     "text": [
      "Radiation::AddThermalTargetPhotons: energy density of radiation field insane. Are you sure of this?\n"
     ]
    }
   ],
   "source": [
    "# set the fields in the Radiation object\n",
    "fp.SetBField(b_field)\n",
    "fp.SetAmbientDensity(density)\n",
    "fp.SetAge(age)\n",
    "\n",
    "fp.AddThermalTargetPhotons(t_gen,edens_gen,bins)\n",
    "\n",
    "#fp.AddThermalTargetPhotons(t_UV,edens_UV,bins)\n",
    "#fp.AddThermalTargetPhotons(t_FIR,edens_FIR,bins)\n",
    "#fp.AddThermalTargetPhotons(t_NIR,edens_NIR,bins)\n",
    "#fp.AddThermalTargetPhotons(t_cmb,edens_cmb,bins)"
   ]
  },
  {
   "cell_type": "code",
   "execution_count": 27,
   "id": "f0c9d370",
   "metadata": {},
   "outputs": [
    {
     "name": "stdout",
     "output_type": "stream",
     "text": [
      "___________________________________\n",
      ">> STARTING NEW PARTICLE EVOLUTION \n",
      "   (-> electrons)     \n",
      ">> CALCULATING IC LOSS LOOKUP \n",
      "    99% done\n",
      "    -> DONE!   \n",
      "\n",
      ">> COMPUTATION OF IC LOSS LOOKUP COMPLETE \n",
      "\n",
      "** Evolving Electron Spectrum:\n",
      "Particles::SetMembers: Time (500yrs vs {1,500}) outside boundaries.\n",
      "  -> Using values from previous time step. If you don't want this, you have to extend \n",
      "     your Lookups (Luminosity,R,V,B,N etc) or set constant values (via e.g. SetBField()). \n",
      ">> PARTICLE EVOLUTION DONE. EXITING.\n",
      "\n"
     ]
    }
   ],
   "source": [
    "fp.SetCustomInjectionSpectrum(power_law_spectrum)\n",
    "\n",
    "dens_lum = np.asarray([e_total_pl if (t >= age-starting_time_flare and t<= age-starting_time_flare+flare_duration) else e_total_pl*fraction_weak for t in time_steps])\n",
    "dens = list(zip(time_steps,dens_lum))\n",
    "fp.SetLuminosity(dens)\n",
    "\n",
    "fp.SetSolverMethod(1)\n",
    "fp.CalculateElectronSpectrum()\n",
    "\n",
    "sp = np.array(fp.GetParticleSpectrum())\n",
    "sed = np.array(fp.GetParticleSED())"
   ]
  },
  {
   "cell_type": "code",
   "execution_count": 28,
   "id": "110645ea",
   "metadata": {},
   "outputs": [
    {
     "name": "stdout",
     "output_type": "stream",
     "text": [
      "_________________________________________\n",
      ">> CALCULATING SED FROM PARENT PARTICLES \n",
      "** Calculating differential gamma-ray emission:\n",
      "    250 / 250 points calculatedts calculated\n",
      "    -> DONE!   \n",
      "\n",
      ">> SED CALCULATION DONE. EXITING.\n",
      "\n"
     ]
    }
   ],
   "source": [
    "fr = gp.Radiation()\n",
    "fr.AddArbitraryTargetPhotons(fp.GetTargetPhotons()) # output from 'Particles' is in the right format to be used in 'Radiation'\n",
    "fr.SetBField(b_field)\n",
    "\n",
    "fr.SetAmbientDensity(density)\n",
    "fr.SetDistance(distance) # optional, in parsec. If not set or equals zero, luminosity instead of flux will be calculated\n",
    "fr.SetElectrons(sp)\n",
    "fr.CalculateDifferentialPhotonSpectrum(np.logspace(-19,3,int(bins/2)) * gp.TeV_to_erg)"
   ]
  },
  {
   "cell_type": "code",
   "execution_count": 29,
   "id": "bc482918",
   "metadata": {},
   "outputs": [],
   "source": [
    "tot = np.array(fr.GetTotalSED())\n",
    "ic = np.array(fr.GetICSED())\n",
    "brems = np.array(fr.GetBremsstrahlungSED())\n",
    "synch = np.array(fr.GetSynchrotronSED())"
   ]
  },
  {
   "cell_type": "code",
   "execution_count": 30,
   "id": "34da41d5",
   "metadata": {},
   "outputs": [
    {
     "data": {
      "text/plain": [
       "Text(0.5, 1.0, 'Radiation SED (500yrs)')"
      ]
     },
     "execution_count": 30,
     "metadata": {},
     "output_type": "execute_result"
    },
    {
     "data": {
      "image/png": "[encoded data removed]",
      "text/plain": [
       "<Figure size 864x432 with 2 Axes>"
      ]
     },
     "metadata": {
      "needs_background": "light"
     },
     "output_type": "display_data"
    }
   ],
   "source": [
    "#### make a plot #####\n",
    "f, (ax1, ax2) = plt.subplots(1, 2,figsize=(12,6))\n",
    "ax1.set_prop_cycle('color',plt.get_cmap('plasma_r')(np.linspace(0.2, .8, 2)))  #\n",
    "ax1.loglog(sed[:,0],sed[:,1],ls=\"-\",label=\"numerical\")\n",
    "#ax1.loglog(sed_s[:,0],sed_s[:,1],ls=\":\",label=\"semianalytic\")\n",
    "ax1.set_xlabel(\"E (TeV)\")\n",
    "ax1.set_ylabel(\"E\"+r\"$^2$\"+\"dN/dE (erg)\")\n",
    "ax1.grid()\n",
    "ax1.legend()\n",
    "ax1.set_xlim(xmin=1e-6,xmax=2e3)\n",
    "#ax1.set_ylim(ymin=1e44,ymax=1e48)\n",
    "ax1.set_title(\"Particle SED (\"+ str(round(age,0))+\"yrs)\")\n",
    "\n",
    "ax2.set_prop_cycle('color',plt.get_cmap('plasma')(np.linspace(0., .8, 4)))  #\n",
    "for i, fp_name in enumerate(flux_points):\n",
    "    ax2.scatter(fp_name[:, 0]*1e-12, fp_name[:, 1], color=colors[i], label=names[i])\n",
    "ax2.loglog(tot[:,0],tot[:,1],ls=\"-\",label=\"total\",lw=3,alpha=0.3)\n",
    "ax2.loglog(synch[:,0],synch[:,1],ls=\":\",label=\"synch\")\n",
    "ax2.loglog(brems[:,0],brems[:,1],ls=\"-.\",label=\"brems\")\n",
    "ax2.loglog(ic[:,0],ic[:,1],linestyle=\"--\",label=\"IC\")\n",
    "ax2.set_xlabel(\"E (TeV)\")\n",
    "ax2.set_ylabel(\"E\"+r\"$^2$\"+\"dN/dE (erg/cm^2/s)\")\n",
    "ax2.legend(ncol=2,prop={'size':12})\n",
    "ax2.grid()\n",
    "ax2.set_xlim(xmin=1e-6,xmax=1e4)\n",
    "ax2.set_ylim(ymin=1e-15,ymax=1e-8)\n",
    "ax2.set_title(\"Radiation SED (\"+ str(round(age,0))+\"yrs)\")"
   ]
  },
  {
   "cell_type": "code",
   "execution_count": null,
   "id": "21d91b3a",
   "metadata": {},
   "outputs": [],
   "source": []
  },
  {
   "cell_type": "code",
   "execution_count": null,
   "id": "19ca01ce",
   "metadata": {},
   "outputs": [],
   "source": []
  }
 ],
 "metadata": {
  "kernelspec": {
   "display_name": "Python [conda env:gammapy-0.19]",
   "language": "python",
   "name": "conda-env-gammapy-0.19-py"
  },
  "language_info": {
   "codemirror_mode": {
    "name": "ipython",
    "version": 3
   },
   "file_extension": ".py",
   "mimetype": "text/x-python",
   "name": "python",
   "nbconvert_exporter": "python",
   "pygments_lexer": "ipython3",
   "version": "3.9.9"
  }
 },
 "nbformat": 4,
 "nbformat_minor": 5
}
