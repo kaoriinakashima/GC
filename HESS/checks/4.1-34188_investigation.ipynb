{
 "cells": [
  {
   "cell_type": "markdown",
   "id": "a69e1524",
   "metadata": {},
   "source": [
    "the run 24188 is has a crazy value of TC, lets see how it is this run.\n",
    "\n",
    "the conclusion is: this run has a lower value for bkg normalization and it is better to exclude it. "
   ]
  },
  {
   "cell_type": "code",
   "execution_count": 1,
   "id": "088d9331",
   "metadata": {},
   "outputs": [],
   "source": [
    "import numpy as np\n",
    "import astropy.units as u\n",
    "import yaml\n",
    "import matplotlib.pyplot as plt\n",
    "from astropy.coordinates import SkyCoord\n",
    "\n",
    "from gammapy.maps import MapAxis, WcsGeom, Map\n",
    "from gammapy.data import DataStore\n",
    "from gammapy.makers import MapDatasetMaker, SafeMaskMaker, FoVBackgroundMaker\n",
    "from gammapy.modeling.models import (\n",
    "    FoVBackgroundModel,\n",
    "    Models,\n",
    ")\n",
    "from gammapy.modeling import Fit\n",
    "from gammapy.datasets import MapDataset\n",
    "from gammapy.irf import Background3D\n",
    "\n",
    "import warnings\n",
    "warnings.filterwarnings('ignore')"
   ]
  },
  {
   "cell_type": "code",
   "execution_count": 3,
   "id": "5edf43ff",
   "metadata": {},
   "outputs": [],
   "source": [
    "muoneff_flag= True\n",
    "edisp = True\n",
    "\n",
    "hessera='hess1'\n",
    "name_afterFermi = 'v1'\n",
    "idx = 2 # 0,1,2\n",
    "\n",
    "if hessera == 'hess1':\n",
    "    full_runlist = np.loadtxt(f'../runlist_{hessera}_{idx}.txt')\n",
    "else:\n",
    "    full_runlist = np.loadtxt(f'../runlist_{hessera}.txt')\n",
    "\n",
    "if hessera =='hess1u':\n",
    "    muoneff_flag=False"
   ]
  },
  {
   "cell_type": "code",
   "execution_count": 4,
   "id": "995c826c",
   "metadata": {},
   "outputs": [],
   "source": [
    "# loading general parameters\n",
    "with open(\"/home/vault/caph/mppi062h/repositories/HESS_3Dbkg_syserror/general_config.yml\", \"r\") as ymlfile:\n",
    "    cfg = yaml.load(ymlfile, Loader=yaml.FullLoader)\n",
    "conf=cfg['conf']\n",
    "repo_path=cfg['repo_path']\n",
    "N_ebins = cfg['N_ebins']\n",
    "zen_bins = cfg['zen_bins']\n",
    "\n",
    "muoneff_path = cfg['muoneff_path']\n",
    "model_str = cfg['model_str']\n",
    "energy_bins = np.logspace(-1, 2, N_ebins+1)"
   ]
  },
  {
   "cell_type": "code",
   "execution_count": 5,
   "id": "b4a10adb",
   "metadata": {},
   "outputs": [],
   "source": [
    "basedir = f'$FITS_PROD/{hessera}/std_{conf}_fullEnclosure'\n",
    "ds = DataStore.from_dir(basedir, f'hdu-index-bg-latest-fov-radec.fits.gz', f'obs-index-bg-latest-fov-radec.fits.gz')\n",
    "obs_table = ds.obs_table\n",
    "\n",
    "mask = [True if obsid in full_runlist else False for obsid in obs_table['OBS_ID']]\n",
    "obs_table=obs_table[mask]"
   ]
  },
  {
   "cell_type": "code",
   "execution_count": 6,
   "id": "179c7724",
   "metadata": {},
   "outputs": [],
   "source": [
    "axis = MapAxis.from_edges(energy_bins, unit=\"TeV\", name=\"energy\", interp=\"log\")\n",
    "binsz=cfg['binsz']*u.deg\n",
    "maker = MapDatasetMaker()\n",
    "if edisp:\n",
    "    maker_safe_mask = SafeMaskMaker(methods=['offset-max', 'bkg-peak', 'edisp-bias'], offset_max=cfg['offset_cut']*u.deg) \n",
    "else:\n",
    "    maker_safe_mask = SafeMaskMaker(methods=['offset-max'], offset_max=cfg['offset_cut']*u.deg)"
   ]
  },
  {
   "cell_type": "code",
   "execution_count": 24,
   "id": "72089f84",
   "metadata": {},
   "outputs": [],
   "source": [
    "runlist = [34188]\n",
    "axis = MapAxis.from_edges(np.logspace(-1,2,25), unit=\"TeV\", name=\"energy\", interp=\"log\")"
   ]
  },
  {
   "cell_type": "code",
   "execution_count": 25,
   "id": "39a198aa",
   "metadata": {},
   "outputs": [
    {
     "name": "stderr",
     "output_type": "stream",
     "text": [
      "No HDU found matching: OBS_ID = 34188, HDU_TYPE = rad_max, HDU_CLASS = None\n",
      "Missing 'HDUCLAS2' keyword assuming 'BKG'\n"
     ]
    },
    {
     "name": "stdout",
     "output_type": "stream",
     "text": [
      "DatasetModels\n",
      "\n",
      "Component 0: FoVBackgroundModel\n",
      "\n",
      "  Name                      : 1Gmom2bg-bkg\n",
      "  Datasets names            : ['1Gmom2bg']\n",
      "  Spectral model type       : PowerLawNormSpectralModel\n",
      "  Parameters:\n",
      "    norm                    :      0.109   +/-    0.01             \n",
      "    tilt                    :      0.046   +/-    0.06             \n",
      "    reference    (frozen)   :      1.000       TeV         \n",
      "\n",
      "\n"
     ]
    }
   ],
   "source": [
    "observations = ds.get_observations(runlist)\n",
    "maker = MapDatasetMaker()\n",
    "geom = WcsGeom.create(skydir=(0,0), binsz=binsz, width=8, frame=\"galactic\", axes=[axis])\n",
    "stacked = MapDataset.create(geom=geom)\n",
    "\n",
    "norm_tilt_list = []\n",
    "for j, obs in enumerate(observations):\n",
    "    zen_bin = np.sum(obs.pointing_zen.value > zen_bins) - 1\n",
    "\n",
    "    if muoneff_flag:\n",
    "        muoneff_path=f'/home/saturn/caph/sn0533/shared/hess/fits/bgmodel_3d/prod05/std_zeta_fullEnclosure/{hessera}/hess1_hess2/v01c_kaori_mueff'\n",
    "        if obs.obs_info['MUONEFF'] > 0.085:\n",
    "            model_CD = 'B'\n",
    "        elif obs.obs_info['MUONEFF'] >= 0.075:\n",
    "            model_CD = 'D'\n",
    "        else:\n",
    "            model_CD = 'C'\n",
    "\n",
    "        if obs.obs_id >= 100000:\n",
    "            run_number= f'{obs.obs_id}'\n",
    "        else:\n",
    "            run_number= f'0{obs.obs_id}'\n",
    "        filename = f'{muoneff_path}_{model_CD}/hess_bkg_3d_v01c_kaori_mueff_{model_CD}_norebin_fov_radec_{run_number}.fits.gz'\n",
    "        obs.bkg = Background3D.read(filename, hdu='BACKGROUND')\n",
    "\n",
    "    dataset = stacked.cutout(obs.pointing_radec, width=5)\n",
    "    dataset = maker.run(dataset, obs)\n",
    "\n",
    "    # this is to set bkg to 0 when it has unreasonable values in the highest energies\n",
    "    spectrum = np.sum((dataset.background).data, axis=(1,2))\n",
    "    for i in range(1, 5):\n",
    "        if spectrum[-1*i] > spectrum[-1*(i+1)]:\n",
    "            dataset.background.data[-1*i] = 0\n",
    "    bkg= np.sum((dataset.background).data, axis=(1,2))\n",
    "\n",
    "    dataset = maker_safe_mask.run(dataset, obs)\n",
    "\n",
    "    dataset.mask_fit = Map.from_geom(geom=dataset.counts.geom, data=np.ones_like(dataset.counts.data).astype(bool))   \n",
    "    dataset.mask_fit &= ~dataset.counts.geom.region_mask(f\"galactic;box(0, 0, 4.3, 1.6)\")\n",
    "    dataset.mask_fit &= ~dataset.counts.geom.region_mask(f\"galactic;circle(358.71, -0.64, 0.9)\")\n",
    "\n",
    "    bkg_model = FoVBackgroundModel(dataset_name=dataset.name)\n",
    "    dataset.models = Models([bkg_model])\n",
    "    dataset.background_model.spectral_model.tilt.frozen = False\n",
    "    Fit().run(datasets=[dataset])\n",
    "\n",
    "    if dataset.background_model.spectral_model.norm.value > 0:\n",
    "        print(dataset.models)\n",
    "        dataset.background.data[~dataset.mask_safe.data] = 0.0\n",
    "        stacked.stack(dataset)\n",
    "        norm_tilt_list.append([obs.obs_id, dataset.background_model.spectral_model.norm.value, dataset.background_model.spectral_model.tilt.value])\n",
    "    else:\n",
    "        print(f'run: with problem={obs.obs_id}')"
   ]
  },
  {
   "cell_type": "code",
   "execution_count": 29,
   "id": "240f912e",
   "metadata": {},
   "outputs": [
    {
     "data": {
      "text/plain": [
       "array([    0,     0,     0,     0, 49099, 49099, 49099, 49099, 49099,\n",
       "       49099, 49099, 49099, 49099, 49099, 49099, 49099, 49099, 49099,\n",
       "       49099, 49099, 49099, 49099, 49099, 49099])"
      ]
     },
     "execution_count": 29,
     "metadata": {},
     "output_type": "execute_result"
    }
   ],
   "source": [
    "np.sum(dataset.mask_safe.data, axis=(1,2))"
   ]
  },
  {
   "cell_type": "code",
   "execution_count": 55,
   "id": "3fbb2ee7",
   "metadata": {},
   "outputs": [
    {
     "data": {
      "text/plain": [
       "<matplotlib.legend.Legend at 0x7f333e4f39a0>"
      ]
     },
     "execution_count": 55,
     "metadata": {},
     "output_type": "execute_result"
    },
    {
     "data": {
      "image/png": "[encoded data removed]",
      "text/plain": [
       "<Figure size 432x288 with 1 Axes>"
      ]
     },
     "metadata": {
      "needs_background": "light"
     },
     "output_type": "display_data"
    }
   ],
   "source": [
    "dataset.counts.get_spectrum().plot(label='counts')\n",
    "dataset.background.get_spectrum().plot(label='background')\n",
    "dataset.npred().get_spectrum().plot(label='npred')\n",
    "plt.legend()"
   ]
  },
  {
   "cell_type": "code",
   "execution_count": 20,
   "id": "ed17b185",
   "metadata": {},
   "outputs": [
    {
     "name": "stdout",
     "output_type": "stream",
     "text": [
      "{'ALT_PNT': 82.78779, 'AZ_PNT': 212.7456, 'DATE-END': '2006-08-19', 'DATE-OBS': '2006-08-19', 'DEADC': 1.0, 'DEC_OBJ': -29.007833, 'DEC_PNT': -29.604733, 'EVENT_COUNT': 2868, 'EVENT_DEC_MEDIAN': -29.584993, 'EVENT_ENERGY_MEDIAN': 0.28876388, 'EVENT_RA_MEDIAN': 265.99078, 'EVENT_TIME_MAX': 177708067.36006165, 'EVENT_TIME_MIN': 177706380.27332234, 'GLAT_PNT': -0.045917418, 'GLON_PNT': 359.24402, 'LIVETIME': 1690.0, 'MUONCORR': 1.0168585, 'MUONEFF': 0.071334995, 'N_TELS': 4, 'OBJECT': 'Sgr A*', 'OBS_ID': 34188, 'ONTIME': 1690.0, 'QUALITY': 1, 'RA_OBJ': 266.41647, 'RA_PNT': 265.99707, 'TELLIST': '1,2,3,4', 'TIME-END': '19:22:13.184', 'TIME-OBS': '18:54:03.184', 'TSTART': 177706379.0, 'TSTOP': 177708069.0, 'ZEN_PNT': 7.2122135, 'BKG_SCALE': 1.0}\n"
     ]
    }
   ],
   "source": [
    "obs = observations[0]\n",
    "print(obs.obs_info)"
   ]
  },
  {
   "cell_type": "code",
   "execution_count": 21,
   "id": "dd90cae0",
   "metadata": {},
   "outputs": [
    {
     "name": "stdout",
     "output_type": "stream",
     "text": [
      "None\n"
     ]
    }
   ],
   "source": [
    "print(stacked.models)"
   ]
  },
  {
   "cell_type": "code",
   "execution_count": 11,
   "id": "85bc7a0b",
   "metadata": {},
   "outputs": [
    {
     "data": {
      "text/plain": [
       "<WCSAxesSubplot:xlabel='Galactic Longitude', ylabel='Galactic Latitude'>"
      ]
     },
     "execution_count": 11,
     "metadata": {},
     "output_type": "execute_result"
    },
    {
     "data": {
      "image/png": "[encoded data removed]",
      "text/plain": [
       "<Figure size 432x288 with 2 Axes>"
      ]
     },
     "metadata": {
      "needs_background": "light"
     },
     "output_type": "display_data"
    }
   ],
   "source": [
    "stacked.counts.sum_over_axes().plot(add_cbar=True)"
   ]
  },
  {
   "cell_type": "code",
   "execution_count": 12,
   "id": "87cf1ebb",
   "metadata": {},
   "outputs": [
    {
     "data": {
      "text/plain": [
       "<WCSAxesSubplot:xlabel='Galactic Longitude', ylabel='Galactic Latitude'>"
      ]
     },
     "execution_count": 12,
     "metadata": {},
     "output_type": "execute_result"
    },
    {
     "data": {
      "image/png": "[encoded data removed]",
      "text/plain": [
       "<Figure size 432x288 with 2 Axes>"
      ]
     },
     "metadata": {
      "needs_background": "light"
     },
     "output_type": "display_data"
    }
   ],
   "source": [
    "stacked.background.sum_over_axes().plot(add_cbar=True)"
   ]
  },
  {
   "cell_type": "code",
   "execution_count": 14,
   "id": "d64b6db1",
   "metadata": {},
   "outputs": [
    {
     "data": {
      "text/plain": [
       "<WCSAxesSubplot:xlabel='Galactic Longitude', ylabel='Galactic Latitude'>"
      ]
     },
     "execution_count": 14,
     "metadata": {},
     "output_type": "execute_result"
    },
    {
     "data": {
      "image/png": "[encoded data removed]",
      "text/plain": [
       "<Figure size 432x288 with 2 Axes>"
      ]
     },
     "metadata": {
      "needs_background": "light"
     },
     "output_type": "display_data"
    }
   ],
   "source": [
    "stacked.residuals().sum_over_axes().smooth(2).plot(add_cbar=True)"
   ]
  },
  {
   "cell_type": "code",
   "execution_count": 16,
   "id": "6e85726a",
   "metadata": {},
   "outputs": [
    {
     "data": {
      "text/plain": [
       "<AxesSubplot:xlabel='Energy [TeV]', ylabel='$\\\\mathrm{}$'>"
      ]
     },
     "execution_count": 16,
     "metadata": {},
     "output_type": "execute_result"
    },
    {
     "data": {
      "image/png": "[encoded data removed]",
      "text/plain": [
       "<Figure size 432x288 with 1 Axes>"
      ]
     },
     "metadata": {
      "needs_background": "light"
     },
     "output_type": "display_data"
    }
   ],
   "source": [
    "stacked.counts.get_spectrum().plot()"
   ]
  },
  {
   "cell_type": "markdown",
   "id": "4cb41ea3",
   "metadata": {},
   "source": [
    "### creating a second version of dataset hess1_1"
   ]
  },
  {
   "cell_type": "markdown",
   "id": "9ae1213c",
   "metadata": {},
   "source": [
    "in this section I want to test what changes if we exclude this only run"
   ]
  },
  {
   "cell_type": "code",
   "execution_count": 33,
   "id": "d4f102bf",
   "metadata": {},
   "outputs": [],
   "source": [
    "import numpy as np\n",
    "import astropy.units as u\n",
    "import yaml\n",
    "import matplotlib.pyplot as plt\n",
    "from astropy.coordinates import SkyCoord\n",
    "\n",
    "from gammapy.maps import MapAxis, WcsGeom, Map\n",
    "from gammapy.data import DataStore\n",
    "from gammapy.makers import MapDatasetMaker, SafeMaskMaker, FoVBackgroundMaker\n",
    "from gammapy.modeling.models import (\n",
    "    FoVBackgroundModel,\n",
    "    Models,\n",
    ")\n",
    "from gammapy.modeling import Fit\n",
    "from gammapy.datasets import MapDataset\n",
    "from gammapy.irf import Background3D\n",
    "\n",
    "import warnings\n",
    "warnings.filterwarnings('ignore')\n",
    "\n",
    "muoneff_flag= True\n",
    "edisp = True\n",
    "\n",
    "hessera='hess1'\n",
    "name_afterFermi = 'v1'\n",
    "idx = 1 # 0,1,2\n",
    "full_runlist = np.loadtxt(f'../runlist_{hessera}_{idx}.txt')\n",
    "\n",
    "# loading general parameters\n",
    "with open(\"/home/vault/caph/mppi062h/repositories/HESS_3Dbkg_syserror/general_config.yml\", \"r\") as ymlfile:\n",
    "    cfg = yaml.load(ymlfile, Loader=yaml.FullLoader)\n",
    "conf=cfg['conf']\n",
    "repo_path=cfg['repo_path']\n",
    "N_ebins = cfg['N_ebins']\n",
    "zen_bins = cfg['zen_bins']\n",
    "\n",
    "muoneff_path = cfg['muoneff_path']\n",
    "model_str = cfg['model_str']\n",
    "energy_bins = np.logspace(-1, 2, N_ebins+1)\n",
    "\n",
    "basedir = f'$FITS_PROD/{hessera}/std_{conf}_fullEnclosure'\n",
    "ds = DataStore.from_dir(basedir, f'hdu-index-bg-latest-fov-radec.fits.gz', f'obs-index-bg-latest-fov-radec.fits.gz')\n",
    "obs_table = ds.obs_table\n",
    "\n",
    "mask = [True if obsid in full_runlist else False for obsid in obs_table['OBS_ID']]\n",
    "obs_table=obs_table[mask]\n",
    "\n",
    "axis = MapAxis.from_edges(energy_bins, unit=\"TeV\", name=\"energy\", interp=\"log\")\n",
    "binsz=cfg['binsz']*u.deg\n",
    "maker = MapDatasetMaker()\n",
    "if edisp:\n",
    "    maker_safe_mask = SafeMaskMaker(methods=['offset-max', 'bkg-peak', 'edisp-bias'], offset_max=cfg['offset_cut']*u.deg) \n",
    "else:\n",
    "    maker_safe_mask = SafeMaskMaker(methods=['offset-max'], offset_max=cfg['offset_cut']*u.deg)"
   ]
  },
  {
   "cell_type": "code",
   "execution_count": 34,
   "id": "2f8b8e92",
   "metadata": {},
   "outputs": [],
   "source": [
    "def create_dataset(runlist, axis, muoneff_flag, name, background_oversampling=1):\n",
    "    observations = ds.get_observations(runlist)\n",
    "    maker = MapDatasetMaker()\n",
    "    geom = WcsGeom.create(skydir=(0,0), binsz=binsz, width=8, frame=\"galactic\", axes=[axis])\n",
    "    stacked = MapDataset.create(geom=geom)\n",
    "\n",
    "    norm_tilt_list = []\n",
    "    for j, obs in enumerate(observations):\n",
    "        zen_bin = np.sum(obs.pointing_zen.value > zen_bins) - 1\n",
    "        \n",
    "        if muoneff_flag:\n",
    "            muoneff_path=f'/home/saturn/caph/sn0533/shared/hess/fits/bgmodel_3d/prod05/std_zeta_fullEnclosure/{hessera}/hess1_hess2/v01c_kaori_mueff'\n",
    "            if obs.obs_info['MUONEFF'] > 0.085:\n",
    "                model_CD = 'B'\n",
    "            elif obs.obs_info['MUONEFF'] >= 0.075:\n",
    "                model_CD = 'D'\n",
    "            else:\n",
    "                model_CD = 'C'\n",
    "\n",
    "            if obs.obs_id >= 100000:\n",
    "                run_number= f'{obs.obs_id}'\n",
    "            else:\n",
    "                run_number= f'0{obs.obs_id}'\n",
    "            filename = f'{muoneff_path}_{model_CD}/hess_bkg_3d_v01c_kaori_mueff_{model_CD}_norebin_fov_radec_{run_number}.fits.gz'\n",
    "            obs.bkg = Background3D.read(filename, hdu='BACKGROUND')\n",
    "        \n",
    "        dataset = stacked.cutout(obs.pointing_radec, width=5)\n",
    "        dataset = maker.run(dataset, obs)\n",
    "        \n",
    "        # this is to set bkg to 0 when it has unreasonable values in the highest energies\n",
    "        spectrum = np.sum((dataset.background).data, axis=(1,2))\n",
    "        for i in range(1, 5):\n",
    "            if spectrum[-1*i] > spectrum[-1*(i+1)]:\n",
    "                dataset.background.data[-1*i] = 0\n",
    "        bkg= np.sum((dataset.background).data, axis=(1,2))\n",
    "        \n",
    "        dataset = maker_safe_mask.run(dataset, obs)\n",
    "        \n",
    "        dataset.mask_fit = Map.from_geom(geom=dataset.counts.geom, data=np.ones_like(dataset.counts.data).astype(bool))   \n",
    "        dataset.mask_fit &= ~dataset.counts.geom.region_mask(f\"galactic;box(0, 0, 4.3, 1.6)\")\n",
    "        dataset.mask_fit &= ~dataset.counts.geom.region_mask(f\"galactic;circle(358.71, -0.64, 0.9)\")\n",
    "        \n",
    "        bkg_model = FoVBackgroundModel(dataset_name=dataset.name)\n",
    "        dataset.models = Models([bkg_model])\n",
    "        dataset.background_model.spectral_model.tilt.frozen = False\n",
    "        Fit().run(datasets=[dataset])\n",
    "                \n",
    "        if dataset.background_model.spectral_model.norm.value > 0:\n",
    "            dataset.background.data[~dataset.mask_safe.data] = 0.0\n",
    "            stacked.stack(dataset)\n",
    "            norm_tilt_list.append([obs.obs_id, dataset.background_model.spectral_model.norm.value, dataset.background_model.spectral_model.tilt.value])\n",
    "        else:\n",
    "            print(f'run: with problem={obs.obs_id}')\n",
    "    return stacked"
   ]
  },
  {
   "cell_type": "code",
   "execution_count": 37,
   "id": "9e22e9ed",
   "metadata": {},
   "outputs": [],
   "source": [
    "runlist = full_runlist[full_runlist != 34188]"
   ]
  },
  {
   "cell_type": "code",
   "execution_count": 39,
   "id": "b908b146",
   "metadata": {},
   "outputs": [
    {
     "name": "stderr",
     "output_type": "stream",
     "text": [
      "No HDU found matching: OBS_ID = 27575.0, HDU_TYPE = rad_max, HDU_CLASS = None\n",
      "No HDU found matching: OBS_ID = 27576.0, HDU_TYPE = rad_max, HDU_CLASS = None\n",
      "No HDU found matching: OBS_ID = 27577.0, HDU_TYPE = rad_max, HDU_CLASS = None\n",
      "No HDU found matching: OBS_ID = 27592.0, HDU_TYPE = rad_max, HDU_CLASS = None\n",
      "No HDU found matching: OBS_ID = 27593.0, HDU_TYPE = rad_max, HDU_CLASS = None\n",
      "No HDU found matching: OBS_ID = 27594.0, HDU_TYPE = rad_max, HDU_CLASS = None\n",
      "No HDU found matching: OBS_ID = 27595.0, HDU_TYPE = rad_max, HDU_CLASS = None\n",
      "No HDU found matching: OBS_ID = 27600.0, HDU_TYPE = rad_max, HDU_CLASS = None\n",
      "No HDU found matching: OBS_ID = 27601.0, HDU_TYPE = rad_max, HDU_CLASS = None\n",
      "No HDU found matching: OBS_ID = 27602.0, HDU_TYPE = rad_max, HDU_CLASS = None\n",
      "No HDU found matching: OBS_ID = 27603.0, HDU_TYPE = rad_max, HDU_CLASS = None\n",
      "No HDU found matching: OBS_ID = 27604.0, HDU_TYPE = rad_max, HDU_CLASS = None\n",
      "No HDU found matching: OBS_ID = 27606.0, HDU_TYPE = rad_max, HDU_CLASS = None\n",
      "No HDU found matching: OBS_ID = 27625.0, HDU_TYPE = rad_max, HDU_CLASS = None\n",
      "No HDU found matching: OBS_ID = 27626.0, HDU_TYPE = rad_max, HDU_CLASS = None\n",
      "No HDU found matching: OBS_ID = 27627.0, HDU_TYPE = rad_max, HDU_CLASS = None\n",
      "No HDU found matching: OBS_ID = 27628.0, HDU_TYPE = rad_max, HDU_CLASS = None\n",
      "No HDU found matching: OBS_ID = 27629.0, HDU_TYPE = rad_max, HDU_CLASS = None\n",
      "No HDU found matching: OBS_ID = 27630.0, HDU_TYPE = rad_max, HDU_CLASS = None\n",
      "No HDU found matching: OBS_ID = 27631.0, HDU_TYPE = rad_max, HDU_CLASS = None\n",
      "No HDU found matching: OBS_ID = 27632.0, HDU_TYPE = rad_max, HDU_CLASS = None\n",
      "No HDU found matching: OBS_ID = 27633.0, HDU_TYPE = rad_max, HDU_CLASS = None\n",
      "No HDU found matching: OBS_ID = 27634.0, HDU_TYPE = rad_max, HDU_CLASS = None\n",
      "No HDU found matching: OBS_ID = 27635.0, HDU_TYPE = rad_max, HDU_CLASS = None\n",
      "No HDU found matching: OBS_ID = 27636.0, HDU_TYPE = rad_max, HDU_CLASS = None\n",
      "No HDU found matching: OBS_ID = 27637.0, HDU_TYPE = rad_max, HDU_CLASS = None\n",
      "No HDU found matching: OBS_ID = 27662.0, HDU_TYPE = rad_max, HDU_CLASS = None\n",
      "No HDU found matching: OBS_ID = 27663.0, HDU_TYPE = rad_max, HDU_CLASS = None\n",
      "No HDU found matching: OBS_ID = 27664.0, HDU_TYPE = rad_max, HDU_CLASS = None\n",
      "No HDU found matching: OBS_ID = 27665.0, HDU_TYPE = rad_max, HDU_CLASS = None\n",
      "No HDU found matching: OBS_ID = 27666.0, HDU_TYPE = rad_max, HDU_CLASS = None\n",
      "No HDU found matching: OBS_ID = 27667.0, HDU_TYPE = rad_max, HDU_CLASS = None\n",
      "No HDU found matching: OBS_ID = 27668.0, HDU_TYPE = rad_max, HDU_CLASS = None\n",
      "No HDU found matching: OBS_ID = 27669.0, HDU_TYPE = rad_max, HDU_CLASS = None\n",
      "No HDU found matching: OBS_ID = 27670.0, HDU_TYPE = rad_max, HDU_CLASS = None\n",
      "No HDU found matching: OBS_ID = 27671.0, HDU_TYPE = rad_max, HDU_CLASS = None\n",
      "No HDU found matching: OBS_ID = 28127.0, HDU_TYPE = rad_max, HDU_CLASS = None\n",
      "No HDU found matching: OBS_ID = 28128.0, HDU_TYPE = rad_max, HDU_CLASS = None\n",
      "No HDU found matching: OBS_ID = 28129.0, HDU_TYPE = rad_max, HDU_CLASS = None\n",
      "No HDU found matching: OBS_ID = 28167.0, HDU_TYPE = rad_max, HDU_CLASS = None\n",
      "No HDU found matching: OBS_ID = 28168.0, HDU_TYPE = rad_max, HDU_CLASS = None\n",
      "No HDU found matching: OBS_ID = 28169.0, HDU_TYPE = rad_max, HDU_CLASS = None\n",
      "No HDU found matching: OBS_ID = 33135.0, HDU_TYPE = rad_max, HDU_CLASS = None\n",
      "No HDU found matching: OBS_ID = 33136.0, HDU_TYPE = rad_max, HDU_CLASS = None\n",
      "No HDU found matching: OBS_ID = 33137.0, HDU_TYPE = rad_max, HDU_CLASS = None\n",
      "No HDU found matching: OBS_ID = 33138.0, HDU_TYPE = rad_max, HDU_CLASS = None\n",
      "No HDU found matching: OBS_ID = 33159.0, HDU_TYPE = rad_max, HDU_CLASS = None\n",
      "No HDU found matching: OBS_ID = 33160.0, HDU_TYPE = rad_max, HDU_CLASS = None\n",
      "No HDU found matching: OBS_ID = 33161.0, HDU_TYPE = rad_max, HDU_CLASS = None\n",
      "No HDU found matching: OBS_ID = 33162.0, HDU_TYPE = rad_max, HDU_CLASS = None\n",
      "No HDU found matching: OBS_ID = 33207.0, HDU_TYPE = rad_max, HDU_CLASS = None\n",
      "No HDU found matching: OBS_ID = 33208.0, HDU_TYPE = rad_max, HDU_CLASS = None\n",
      "No HDU found matching: OBS_ID = 33467.0, HDU_TYPE = rad_max, HDU_CLASS = None\n",
      "No HDU found matching: OBS_ID = 33468.0, HDU_TYPE = rad_max, HDU_CLASS = None\n",
      "No HDU found matching: OBS_ID = 33482.0, HDU_TYPE = rad_max, HDU_CLASS = None\n",
      "No HDU found matching: OBS_ID = 33483.0, HDU_TYPE = rad_max, HDU_CLASS = None\n",
      "No HDU found matching: OBS_ID = 33484.0, HDU_TYPE = rad_max, HDU_CLASS = None\n",
      "No HDU found matching: OBS_ID = 33485.0, HDU_TYPE = rad_max, HDU_CLASS = None\n",
      "No HDU found matching: OBS_ID = 33499.0, HDU_TYPE = rad_max, HDU_CLASS = None\n",
      "No HDU found matching: OBS_ID = 33500.0, HDU_TYPE = rad_max, HDU_CLASS = None\n",
      "No HDU found matching: OBS_ID = 33501.0, HDU_TYPE = rad_max, HDU_CLASS = None\n",
      "No HDU found matching: OBS_ID = 33502.0, HDU_TYPE = rad_max, HDU_CLASS = None\n",
      "No HDU found matching: OBS_ID = 33536.0, HDU_TYPE = rad_max, HDU_CLASS = None\n",
      "No HDU found matching: OBS_ID = 34148.0, HDU_TYPE = rad_max, HDU_CLASS = None\n",
      "No HDU found matching: OBS_ID = 34187.0, HDU_TYPE = rad_max, HDU_CLASS = None\n",
      "No HDU found matching: OBS_ID = 34209.0, HDU_TYPE = rad_max, HDU_CLASS = None\n",
      "No HDU found matching: OBS_ID = 34310.0, HDU_TYPE = rad_max, HDU_CLASS = None\n",
      "No HDU found matching: OBS_ID = 34313.0, HDU_TYPE = rad_max, HDU_CLASS = None\n",
      "No HDU found matching: OBS_ID = 34314.0, HDU_TYPE = rad_max, HDU_CLASS = None\n",
      "No HDU found matching: OBS_ID = 34949.0, HDU_TYPE = rad_max, HDU_CLASS = None\n",
      "No HDU found matching: OBS_ID = 34950.0, HDU_TYPE = rad_max, HDU_CLASS = None\n",
      "No HDU found matching: OBS_ID = 34951.0, HDU_TYPE = rad_max, HDU_CLASS = None\n",
      "No HDU found matching: OBS_ID = 34952.0, HDU_TYPE = rad_max, HDU_CLASS = None\n",
      "No HDU found matching: OBS_ID = 34953.0, HDU_TYPE = rad_max, HDU_CLASS = None\n",
      "No HDU found matching: OBS_ID = 34976.0, HDU_TYPE = rad_max, HDU_CLASS = None\n",
      "No HDU found matching: OBS_ID = 34977.0, HDU_TYPE = rad_max, HDU_CLASS = None\n",
      "No HDU found matching: OBS_ID = 34978.0, HDU_TYPE = rad_max, HDU_CLASS = None\n",
      "No HDU found matching: OBS_ID = 34979.0, HDU_TYPE = rad_max, HDU_CLASS = None\n",
      "No HDU found matching: OBS_ID = 35001.0, HDU_TYPE = rad_max, HDU_CLASS = None\n",
      "No HDU found matching: OBS_ID = 35002.0, HDU_TYPE = rad_max, HDU_CLASS = None\n",
      "No HDU found matching: OBS_ID = 35003.0, HDU_TYPE = rad_max, HDU_CLASS = None\n",
      "No HDU found matching: OBS_ID = 38832.0, HDU_TYPE = rad_max, HDU_CLASS = None\n",
      "No HDU found matching: OBS_ID = 38833.0, HDU_TYPE = rad_max, HDU_CLASS = None\n",
      "No HDU found matching: OBS_ID = 38835.0, HDU_TYPE = rad_max, HDU_CLASS = None\n",
      "No HDU found matching: OBS_ID = 38862.0, HDU_TYPE = rad_max, HDU_CLASS = None\n",
      "No HDU found matching: OBS_ID = 38863.0, HDU_TYPE = rad_max, HDU_CLASS = None\n",
      "No HDU found matching: OBS_ID = 38865.0, HDU_TYPE = rad_max, HDU_CLASS = None\n",
      "No HDU found matching: OBS_ID = 38895.0, HDU_TYPE = rad_max, HDU_CLASS = None\n",
      "No HDU found matching: OBS_ID = 38896.0, HDU_TYPE = rad_max, HDU_CLASS = None\n",
      "Missing 'HDUCLAS2' keyword assuming 'BKG'\n",
      "Missing 'HDUCLAS2' keyword assuming 'BKG'\n",
      "Missing 'HDUCLAS2' keyword assuming 'BKG'\n",
      "Missing 'HDUCLAS2' keyword assuming 'BKG'\n",
      "Missing 'HDUCLAS2' keyword assuming 'BKG'\n",
      "Missing 'HDUCLAS2' keyword assuming 'BKG'\n",
      "Missing 'HDUCLAS2' keyword assuming 'BKG'\n",
      "Missing 'HDUCLAS2' keyword assuming 'BKG'\n",
      "Missing 'HDUCLAS2' keyword assuming 'BKG'\n",
      "Missing 'HDUCLAS2' keyword assuming 'BKG'\n",
      "Missing 'HDUCLAS2' keyword assuming 'BKG'\n",
      "Missing 'HDUCLAS2' keyword assuming 'BKG'\n",
      "Missing 'HDUCLAS2' keyword assuming 'BKG'\n",
      "Missing 'HDUCLAS2' keyword assuming 'BKG'\n",
      "Missing 'HDUCLAS2' keyword assuming 'BKG'\n",
      "Missing 'HDUCLAS2' keyword assuming 'BKG'\n",
      "Missing 'HDUCLAS2' keyword assuming 'BKG'\n",
      "Missing 'HDUCLAS2' keyword assuming 'BKG'\n",
      "Missing 'HDUCLAS2' keyword assuming 'BKG'\n",
      "Missing 'HDUCLAS2' keyword assuming 'BKG'\n",
      "Missing 'HDUCLAS2' keyword assuming 'BKG'\n",
      "Missing 'HDUCLAS2' keyword assuming 'BKG'\n",
      "Missing 'HDUCLAS2' keyword assuming 'BKG'\n",
      "Missing 'HDUCLAS2' keyword assuming 'BKG'\n",
      "Missing 'HDUCLAS2' keyword assuming 'BKG'\n",
      "Missing 'HDUCLAS2' keyword assuming 'BKG'\n",
      "Missing 'HDUCLAS2' keyword assuming 'BKG'\n",
      "Missing 'HDUCLAS2' keyword assuming 'BKG'\n",
      "Missing 'HDUCLAS2' keyword assuming 'BKG'\n",
      "Missing 'HDUCLAS2' keyword assuming 'BKG'\n",
      "Missing 'HDUCLAS2' keyword assuming 'BKG'\n",
      "Missing 'HDUCLAS2' keyword assuming 'BKG'\n",
      "Missing 'HDUCLAS2' keyword assuming 'BKG'\n",
      "Missing 'HDUCLAS2' keyword assuming 'BKG'\n",
      "Missing 'HDUCLAS2' keyword assuming 'BKG'\n",
      "Missing 'HDUCLAS2' keyword assuming 'BKG'\n",
      "Missing 'HDUCLAS2' keyword assuming 'BKG'\n",
      "Missing 'HDUCLAS2' keyword assuming 'BKG'\n",
      "Missing 'HDUCLAS2' keyword assuming 'BKG'\n",
      "Missing 'HDUCLAS2' keyword assuming 'BKG'\n",
      "Missing 'HDUCLAS2' keyword assuming 'BKG'\n",
      "Missing 'HDUCLAS2' keyword assuming 'BKG'\n",
      "Missing 'HDUCLAS2' keyword assuming 'BKG'\n",
      "Missing 'HDUCLAS2' keyword assuming 'BKG'\n",
      "Missing 'HDUCLAS2' keyword assuming 'BKG'\n",
      "Missing 'HDUCLAS2' keyword assuming 'BKG'\n",
      "Missing 'HDUCLAS2' keyword assuming 'BKG'\n",
      "Missing 'HDUCLAS2' keyword assuming 'BKG'\n",
      "Missing 'HDUCLAS2' keyword assuming 'BKG'\n",
      "Missing 'HDUCLAS2' keyword assuming 'BKG'\n",
      "Missing 'HDUCLAS2' keyword assuming 'BKG'\n",
      "Missing 'HDUCLAS2' keyword assuming 'BKG'\n",
      "Missing 'HDUCLAS2' keyword assuming 'BKG'\n",
      "Missing 'HDUCLAS2' keyword assuming 'BKG'\n",
      "Missing 'HDUCLAS2' keyword assuming 'BKG'\n",
      "Missing 'HDUCLAS2' keyword assuming 'BKG'\n",
      "Missing 'HDUCLAS2' keyword assuming 'BKG'\n",
      "Missing 'HDUCLAS2' keyword assuming 'BKG'\n",
      "Missing 'HDUCLAS2' keyword assuming 'BKG'\n",
      "Missing 'HDUCLAS2' keyword assuming 'BKG'\n",
      "Missing 'HDUCLAS2' keyword assuming 'BKG'\n",
      "Missing 'HDUCLAS2' keyword assuming 'BKG'\n",
      "Missing 'HDUCLAS2' keyword assuming 'BKG'\n",
      "Missing 'HDUCLAS2' keyword assuming 'BKG'\n",
      "Missing 'HDUCLAS2' keyword assuming 'BKG'\n",
      "Missing 'HDUCLAS2' keyword assuming 'BKG'\n",
      "Missing 'HDUCLAS2' keyword assuming 'BKG'\n",
      "Missing 'HDUCLAS2' keyword assuming 'BKG'\n",
      "Missing 'HDUCLAS2' keyword assuming 'BKG'\n",
      "Missing 'HDUCLAS2' keyword assuming 'BKG'\n",
      "Missing 'HDUCLAS2' keyword assuming 'BKG'\n",
      "Missing 'HDUCLAS2' keyword assuming 'BKG'\n",
      "Missing 'HDUCLAS2' keyword assuming 'BKG'\n",
      "Missing 'HDUCLAS2' keyword assuming 'BKG'\n",
      "Missing 'HDUCLAS2' keyword assuming 'BKG'\n",
      "Missing 'HDUCLAS2' keyword assuming 'BKG'\n",
      "Missing 'HDUCLAS2' keyword assuming 'BKG'\n",
      "Missing 'HDUCLAS2' keyword assuming 'BKG'\n",
      "Missing 'HDUCLAS2' keyword assuming 'BKG'\n",
      "Missing 'HDUCLAS2' keyword assuming 'BKG'\n",
      "Missing 'HDUCLAS2' keyword assuming 'BKG'\n",
      "Missing 'HDUCLAS2' keyword assuming 'BKG'\n",
      "Missing 'HDUCLAS2' keyword assuming 'BKG'\n",
      "Missing 'HDUCLAS2' keyword assuming 'BKG'\n",
      "Missing 'HDUCLAS2' keyword assuming 'BKG'\n",
      "Missing 'HDUCLAS2' keyword assuming 'BKG'\n",
      "Missing 'HDUCLAS2' keyword assuming 'BKG'\n",
      "Missing 'HDUCLAS2' keyword assuming 'BKG'\n",
      "Missing 'HDUCLAS2' keyword assuming 'BKG'\n"
     ]
    },
    {
     "name": "stdout",
     "output_type": "stream",
     "text": [
      "CPU times: user 7min 28s, sys: 20.2 s, total: 7min 48s\n",
      "Wall time: 7min 52s\n"
     ]
    }
   ],
   "source": [
    "%%time\n",
    "    \n",
    "axis = MapAxis.from_edges(np.logspace(-1,2,25), unit=\"TeV\", name=\"energy\", interp=\"log\")\n",
    "name='test'\n",
    "stacked = create_dataset(runlist, axis, muoneff_flag, name)"
   ]
  },
  {
   "cell_type": "code",
   "execution_count": 40,
   "id": "bb6b8184",
   "metadata": {},
   "outputs": [],
   "source": [
    "stacked.write('dataset_test_hess1_1_no34188.fits')"
   ]
  },
  {
   "cell_type": "code",
   "execution_count": 41,
   "id": "35c01e15",
   "metadata": {},
   "outputs": [],
   "source": [
    "model_path = f'../fitted_model_20220702_hess1_muoneffTrue_edispTrue_afterFermiv1_1.yml'\n",
    "original_fit_model =Models.read(model_path)"
   ]
  },
  {
   "cell_type": "code",
   "execution_count": 42,
   "id": "810190e4",
   "metadata": {},
   "outputs": [],
   "source": [
    "stacked.models = original_fit_model.copy()"
   ]
  },
  {
   "cell_type": "code",
   "execution_count": 44,
   "id": "fda23a1a",
   "metadata": {},
   "outputs": [
    {
     "name": "stdout",
     "output_type": "stream",
     "text": [
      "OptimizeResult\n",
      "\n",
      "\tbackend    : minuit\n",
      "\tmethod     : migrad\n",
      "\tsuccess    : True\n",
      "\tmessage    : Optimization terminated successfully.\n",
      "\tnfev       : 167\n",
      "\ttotal stat : 628196.03\n",
      "\n",
      "OptimizeResult\n",
      "\n",
      "\tbackend    : minuit\n",
      "\tmethod     : migrad\n",
      "\tsuccess    : True\n",
      "\tmessage    : Optimization terminated successfully.\n",
      "\tnfev       : 167\n",
      "\ttotal stat : 628196.03\n",
      "\n",
      "\n"
     ]
    }
   ],
   "source": [
    "stacked = FoVBackgroundMaker().make_default_fov_background_model(dataset=stacked)\n",
    "stacked.models[-1].parameters['tilt'].frozen=False\n",
    "\n",
    "result0= Fit().run(datasets=[stacked])\n",
    "print(result0)\n"
   ]
  },
  {
   "cell_type": "code",
   "execution_count": 45,
   "id": "cf5c5264",
   "metadata": {
    "collapsed": true,
    "jupyter": {
     "outputs_hidden": true
    }
   },
   "outputs": [
    {
     "name": "stdout",
     "output_type": "stream",
     "text": [
      "DatasetModels\n",
      "\n",
      "Component 0: SkyModel\n",
      "\n",
      "  Name                      : HESS J1741-302\n",
      "  Datasets names            : None\n",
      "  Spectral model type       : PowerLawSpectralModel\n",
      "  Spatial  model type       : PointSpatialModel\n",
      "  Temporal model type       : \n",
      "  Parameters:\n",
      "    index        (frozen)   :      2.300                   \n",
      "    amplitude    (frozen)   :   2.10e-13       1 / (cm2 s TeV)\n",
      "    reference    (frozen)   :      1.000       TeV         \n",
      "    lon_0        (frozen)   :    358.277       deg         \n",
      "    lat_0        (frozen)   :      0.049       deg         \n",
      "\n",
      "Component 1: SkyModel\n",
      "\n",
      "  Name                      : HESS J1745-290\n",
      "  Datasets names            : None\n",
      "  Spectral model type       : ExpCutoffPowerLawSpectralModel\n",
      "  Spatial  model type       : PointSpatialModel\n",
      "  Temporal model type       : \n",
      "  Parameters:\n",
      "    index                   :      2.228   +/-    0.08             \n",
      "    amplitude               :   1.98e-12   +/- 1.3e-13 1 / (cm2 s TeV)\n",
      "    reference    (frozen)   :      1.000       TeV         \n",
      "    lambda_                 :      0.040   +/-    0.02 1 / TeV     \n",
      "    alpha        (frozen)   :      1.000                   \n",
      "    lon_0        (frozen)   :    359.945       deg         \n",
      "    lat_0        (frozen)   :     -0.044       deg         \n",
      "\n",
      "Component 2: SkyModel\n",
      "\n",
      "  Name                      : HESS J1745-303\n",
      "  Datasets names            : None\n",
      "  Spectral model type       : PowerLawSpectralModel\n",
      "  Spatial  model type       : GaussianSpatialModel\n",
      "  Temporal model type       : \n",
      "  Parameters:\n",
      "    index        (frozen)   :      2.567                   \n",
      "    amplitude    (frozen)   :   2.47e-12       1 / (cm2 s TeV)\n",
      "    reference    (frozen)   :      0.867       TeV         \n",
      "    lon_0        (frozen)   :    358.645       deg         \n",
      "    lat_0        (frozen)   :     -0.564       deg         \n",
      "    sigma        (frozen)   :      0.179       deg         \n",
      "    e            (frozen)   :      0.000                   \n",
      "    phi          (frozen)   :      0.000       deg         \n",
      "\n",
      "Component 3: SkyModel\n",
      "\n",
      "  Name                      : HESS J1746-285\n",
      "  Datasets names            : None\n",
      "  Spectral model type       : PowerLawSpectralModel\n",
      "  Spatial  model type       : PointSpatialModel\n",
      "  Temporal model type       : \n",
      "  Parameters:\n",
      "    index        (frozen)   :      2.170                   \n",
      "    amplitude    (frozen)   :   1.80e-13       1 / (cm2 s TeV)\n",
      "    reference    (frozen)   :      1.000       TeV         \n",
      "    lon_0        (frozen)   :      0.140       deg         \n",
      "    lat_0        (frozen)   :     -0.114       deg         \n",
      "\n",
      "Component 4: SkyModel\n",
      "\n",
      "  Name                      : HESS J1746-308\n",
      "  Datasets names            : None\n",
      "  Spectral model type       : PowerLawSpectralModel\n",
      "  Spatial  model type       : GaussianSpatialModel\n",
      "  Temporal model type       : \n",
      "  Parameters:\n",
      "    index        (frozen)   :      3.271                   \n",
      "    amplitude    (frozen)   :   7.21e-12       1 / (cm2 s TeV)\n",
      "    reference    (frozen)   :      0.488       TeV         \n",
      "    lon_0        (frozen)   :    358.448       deg         \n",
      "    lat_0        (frozen)   :     -1.114       deg         \n",
      "    sigma        (frozen)   :      0.162       deg         \n",
      "    e            (frozen)   :      0.000                   \n",
      "    phi          (frozen)   :      0.000       deg         \n",
      "\n",
      "Component 5: SkyModel\n",
      "\n",
      "  Name                      : HESS J1747-281\n",
      "  Datasets names            : None\n",
      "  Spectral model type       : PowerLawSpectralModel\n",
      "  Spatial  model type       : PointSpatialModel\n",
      "  Temporal model type       : \n",
      "  Parameters:\n",
      "    index        (frozen)   :      2.400                   \n",
      "    amplitude    (frozen)   :   8.38e-13       1 / (cm2 s TeV)\n",
      "    reference    (frozen)   :      1.000       TeV         \n",
      "    lon_0        (frozen)   :      0.872       deg         \n",
      "    lat_0        (frozen)   :      0.076       deg         \n",
      "\n",
      "Component 6: SkyModel\n",
      "\n",
      "  Name                      : diff-emission\n",
      "  Datasets names            : None\n",
      "  Spectral model type       : PowerLawNormSpectralModel\n",
      "  Spatial  model type       : TemplateSpatialModel\n",
      "  Temporal model type       : \n",
      "  Parameters:\n",
      "    norm                    :  16535.204   +/- 1051.74             \n",
      "    tilt         (frozen)   :     -0.068                   \n",
      "    reference    (frozen)   :      1.000       TeV         \n",
      "\n",
      "Component 7: FoVBackgroundModel\n",
      "\n",
      "  Name                      : NR1y6RFr-bkg\n",
      "  Datasets names            : ['NR1y6RFr']\n",
      "  Spectral model type       : PowerLawNormSpectralModel\n",
      "  Parameters:\n",
      "    norm                    :      1.009   +/-    0.00             \n",
      "    tilt                    :     -0.001   +/-    0.00             \n",
      "    reference    (frozen)   :      1.000       TeV         \n",
      "\n",
      "\n"
     ]
    }
   ],
   "source": [
    "print(stacked.models)"
   ]
  },
  {
   "cell_type": "code",
   "execution_count": 48,
   "id": "f7aa3b05",
   "metadata": {},
   "outputs": [],
   "source": [
    "central_source = 'HESS J1745-290'"
   ]
  },
  {
   "cell_type": "code",
   "execution_count": 54,
   "id": "86a79750",
   "metadata": {},
   "outputs": [
    {
     "data": {
      "text/plain": [
       "<matplotlib.legend.Legend at 0x7f333e0f5f70>"
      ]
     },
     "execution_count": 54,
     "metadata": {},
     "output_type": "execute_result"
    },
    {
     "data": {
      "image/png": "[encoded data removed]",
      "text/plain": [
       "<Figure size 400x300 with 1 Axes>"
      ]
     },
     "metadata": {
      "needs_background": "light"
     },
     "output_type": "display_data"
    }
   ],
   "source": [
    "fig, ax = plt.subplots(1,1, figsize=(4, 3), dpi=100)\n",
    "\n",
    "energy_bounds = [0.3, 100] * u.TeV\n",
    "sed_type = \"e2dnde\"\n",
    "\n",
    "stacked.models[central_source].spectral_model.plot(ax=ax, color='crimson',\n",
    "        energy_bounds=energy_bounds, sed_type=sed_type, label='w/o run34188')\n",
    "stacked.models[central_source].spectral_model.plot_error(ax=ax, energy_bounds=energy_bounds, sed_type=sed_type)\n",
    "\n",
    "\n",
    "original_fit_model[central_source].spectral_model.plot(ax=ax, color='forestgreen',\n",
    "        energy_bounds=energy_bounds, sed_type=sed_type, label='w/ run34188')\n",
    "original_fit_model[central_source].spectral_model.plot_error(ax=ax, energy_bounds=energy_bounds, sed_type=sed_type)\n",
    "plt.legend()"
   ]
  },
  {
   "cell_type": "code",
   "execution_count": 53,
   "id": "11d9da28",
   "metadata": {},
   "outputs": [
    {
     "data": {
      "text/plain": [
       "<AxesSubplot:xlabel='Energy [TeV]', ylabel='e2dnde [erg / (cm2 s)]'>"
      ]
     },
     "execution_count": 53,
     "metadata": {},
     "output_type": "execute_result"
    },
    {
     "data": {
      "image/png": "[encoded data removed]",
      "text/plain": [
       "<Figure size 400x300 with 1 Axes>"
      ]
     },
     "metadata": {
      "needs_background": "light"
     },
     "output_type": "display_data"
    }
   ],
   "source": [
    "fig, ax = plt.subplots(1,1, figsize=(4, 3), dpi=100)\n",
    "\n",
    "energy_bounds = [0.3, 100] * u.TeV\n",
    "sed_type = \"e2dnde\"\n",
    "\n",
    "original_fit_model[central_source].spectral_model.plot(ax=ax, color='forestgreen',\n",
    "        energy_bounds=energy_bounds, sed_type=sed_type)\n",
    "original_fit_model[central_source].spectral_model.plot_error(ax=ax, energy_bounds=energy_bounds, sed_type=sed_type)"
   ]
  },
  {
   "cell_type": "code",
   "execution_count": null,
   "id": "547a21cf",
   "metadata": {},
   "outputs": [],
   "source": [
    "fig, ax = plt.subplots(1,1, figsize=(4, 3), dpi=100)\n",
    "\n",
    "catalog_model.spectral_model.plot(ax=ax, color='black',\n",
    "        energy_bounds=energy_bounds, sed_type=sed_type, label='catalog')\n",
    "    \n",
    "for idx, hess in enumerate(datasets_hess):\n",
    "    hess.models[central_source].spectral_model.plot(ax=ax, color=colors[idx],\n",
    "        energy_bounds=energy_bounds, sed_type=sed_type, label=f'dataset-{idx}')\n",
    "    hess.models[central_source].spectral_model.plot_error(ax=ax, energy_bounds=energy_bounds, sed_type=sed_type)\n",
    "plt.legend(loc='lower left')\n",
    "plt.ylim(1e-15, 2e-11)\n",
    "plt.title(central_source)"
   ]
  },
  {
   "cell_type": "code",
   "execution_count": null,
   "id": "3e2797ed",
   "metadata": {},
   "outputs": [],
   "source": []
  },
  {
   "cell_type": "code",
   "execution_count": null,
   "id": "559cac18",
   "metadata": {},
   "outputs": [],
   "source": []
  },
  {
   "cell_type": "code",
   "execution_count": null,
   "id": "96c385d4",
   "metadata": {},
   "outputs": [],
   "source": []
  }
 ],
 "metadata": {
  "kernelspec": {
   "display_name": "Python [conda env:gammapy-0.19]",
   "language": "python",
   "name": "conda-env-gammapy-0.19-py"
  },
  "language_info": {
   "codemirror_mode": {
    "name": "ipython",
    "version": 3
   },
   "file_extension": ".py",
   "mimetype": "text/x-python",
   "name": "python",
   "nbconvert_exporter": "python",
   "pygments_lexer": "ipython3",
   "version": "3.9.9"
  }
 },
 "nbformat": 4,
 "nbformat_minor": 5
}
