{
 "cells": [
  {
   "cell_type": "code",
   "execution_count": 1,
   "id": "562450e4",
   "metadata": {},
   "outputs": [],
   "source": [
    "import numpy as np\n",
    "import astropy.units as u\n",
    "from astropy.coordinates import SkyCoord\n",
    "import yaml\n",
    "import os\n",
    "import matplotlib.pyplot as plt\n",
    "\n",
    "from gammapy.maps import MapAxis, WcsGeom, Map\n",
    "from gammapy.data import DataStore\n",
    "from gammapy.makers import MapDatasetMaker, SafeMaskMaker, FoVBackgroundMaker\n",
    "from gammapy.modeling.models import (\n",
    "    FoVBackgroundModel,\n",
    "    Models,\n",
    ")\n",
    "from gammapy.modeling import Fit\n",
    "from gammapy.datasets import MapDataset\n",
    "from gammapy.irf import Background3D\n",
    "\n",
    "import warnings\n",
    "warnings.filterwarnings('ignore')"
   ]
  },
  {
   "cell_type": "code",
   "execution_count": 4,
   "id": "f9ba052b",
   "metadata": {},
   "outputs": [],
   "source": [
    "# loading general parameters\n",
    "hessera = 'hess1u'\n",
    "source_catalog = \"Sgr A*\"\n",
    "\n",
    "with open(\"/home/vault/caph/mppi062h/repositories/syserror_3d_bkgmodel/general_config.yml\", \"r\") as ymlfile:\n",
    "    cfg = yaml.load(ymlfile, Loader=yaml.FullLoader)\n",
    "conf=cfg['conf']\n",
    "zen_bins=cfg['zen_bins']"
   ]
  },
  {
   "cell_type": "code",
   "execution_count": 5,
   "id": "f941477f",
   "metadata": {},
   "outputs": [],
   "source": [
    "basedir = f'$FITS_PROD/{hessera}/std_{conf}_fullEnclosure'\n",
    "ds = DataStore.from_dir(basedir, f'hdu-index-bg-latest-fov-radec.fits.gz', f'obs-index-bg-latest-fov-radec.fits.gz')\n",
    "obs_table = ds.obs_table\n",
    "\n",
    "# run selection\n",
    "mask_source = obs_table['OBJECT'] == source_catalog\n",
    "mask_tel = obs_table['N_TELS'] == cfg['mask_ntels']\n",
    "mask_zenpnt = obs_table['ZEN_PNT'] < cfg['mask_zenpnt']\n",
    "mask_eventcount = obs_table['EVENT_COUNT'] > cfg['mask_eventcount']\n",
    "mask_ontime = obs_table['ONTIME'] > cfg['mask_ontime']\n",
    "mask_final = mask_source & mask_tel & mask_zenpnt & mask_eventcount & mask_ontime \n",
    "runlist = np.asarray(obs_table['OBS_ID'][mask_final])"
   ]
  },
  {
   "cell_type": "code",
   "execution_count": 6,
   "id": "69e96624",
   "metadata": {},
   "outputs": [],
   "source": [
    "np.savetxt(f'runlist_{hessera}.txt', runlist)"
   ]
  },
  {
   "cell_type": "code",
   "execution_count": null,
   "id": "4dc5d6f3",
   "metadata": {},
   "outputs": [],
   "source": []
  },
  {
   "cell_type": "code",
   "execution_count": null,
   "id": "d5f6ca1f",
   "metadata": {},
   "outputs": [],
   "source": []
  },
  {
   "cell_type": "code",
   "execution_count": null,
   "id": "b77e0710",
   "metadata": {},
   "outputs": [],
   "source": []
  }
 ],
 "metadata": {
  "kernelspec": {
   "display_name": "Python [conda env:gammapy-0.19]",
   "language": "python",
   "name": "conda-env-gammapy-0.19-py"
  },
  "language_info": {
   "codemirror_mode": {
    "name": "ipython",
    "version": 3
   },
   "file_extension": ".py",
   "mimetype": "text/x-python",
   "name": "python",
   "nbconvert_exporter": "python",
   "pygments_lexer": "ipython3",
   "version": "3.9.9"
  }
 },
 "nbformat": 4,
 "nbformat_minor": 5
}
